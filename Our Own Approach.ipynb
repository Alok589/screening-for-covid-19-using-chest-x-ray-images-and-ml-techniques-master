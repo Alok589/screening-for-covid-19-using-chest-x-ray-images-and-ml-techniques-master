{
 "cells": [
  {
   "cell_type": "markdown",
   "metadata": {},
   "source": [
    "## Train the first phase of the classification(Normal,pneumonie)"
   ]
  },
  {
   "cell_type": "code",
   "execution_count": 1,
   "metadata": {},
   "outputs": [],
   "source": [
    "import torch\n",
    "import torch.nn as nn\n",
    "import torch.optim as optim\n",
    "from torch.optim import lr_scheduler\n",
    "import numpy as np\n",
    "import torchvision\n",
    "from torchvision import datasets, models, transforms\n",
    "import matplotlib.pyplot as plt\n",
    "import time\n",
    "import os\n",
    "import copy\n",
    "from PIL import Image\n",
    "import pandas as pd"
   ]
  },
  {
   "cell_type": "code",
   "execution_count": 2,
   "metadata": {},
   "outputs": [],
   "source": [
    "# data transform\n",
    "data_transforms = {\n",
    "    'train': transforms.Compose([\n",
    "        transforms.RandomResizedCrop(224),\n",
    "        transforms.RandomHorizontalFlip(),\n",
    "        transforms.ToTensor(),\n",
    "        transforms.Normalize([0.485, 0.456, 0.406], [0.229, 0.224, 0.225])\n",
    "    ]),\n",
    "    'val': transforms.Compose([\n",
    "        transforms.Resize(256),\n",
    "        transforms.CenterCrop(224),\n",
    "        transforms.ToTensor(),\n",
    "        transforms.Normalize([0.485, 0.456, 0.406], [0.229, 0.224, 0.225])\n",
    "    ]),\n",
    "}"
   ]
  },
  {
   "cell_type": "code",
   "execution_count": 3,
   "metadata": {},
   "outputs": [],
   "source": [
    "data_dir = 'Data_1'\n",
    "image_datasets_1 = {x: datasets.ImageFolder(os.path.join(data_dir, x),\n",
    "                                          data_transforms[x])\n",
    "                  for x in ['train', 'val']}\n",
    "dataloaders_1 = {x: torch.utils.data.DataLoader(image_datasets_1[x], batch_size=4,\n",
    "                                             shuffle=True, num_workers=4)\n",
    "              for x in ['train', 'val']}"
   ]
  },
  {
   "cell_type": "code",
   "execution_count": 4,
   "metadata": {},
   "outputs": [],
   "source": [
    "class_names_1 = image_datasets_1['train'].classes\n",
    "dataset_sizes_1 = {x: len(image_datasets_1[x]) for x in ['train', 'val']}"
   ]
  },
  {
   "cell_type": "code",
   "execution_count": 5,
   "metadata": {},
   "outputs": [
    {
     "data": {
      "text/plain": [
       "['Normal', 'pneumonie']"
      ]
     },
     "execution_count": 5,
     "metadata": {},
     "output_type": "execute_result"
    }
   ],
   "source": [
    "class_names_1"
   ]
  },
  {
   "cell_type": "code",
   "execution_count": 6,
   "metadata": {},
   "outputs": [],
   "source": [
    "def train_model(model, criterion, optimizer, scheduler, num_epochs=25):\n",
    "    since = time.time()\n",
    "    train_acc = []\n",
    "    valid_acc = []\n",
    "    train_loss = []\n",
    "    valid_loss = []\n",
    "\n",
    "    best_model_wts = copy.deepcopy(model.state_dict())\n",
    "    best_acc = 0.0\n",
    "\n",
    "    for epoch in range(num_epochs):\n",
    "        print('Epoch {}/{}'.format(epoch, num_epochs - 1))\n",
    "        print('-' * 10)\n",
    "\n",
    "        # Each epoch has a training and validation phase\n",
    "        for phase in ['train', 'val']:\n",
    "            if phase == 'train':\n",
    "                model.train()  # Set model to training mode\n",
    "            else:\n",
    "                model.eval()   # Set model to evaluate mode\n",
    "\n",
    "            running_loss = 0.0\n",
    "            running_corrects = 0\n",
    "\n",
    "            # Iterate over data.\n",
    "            for inputs, labels in dataloaders_1[phase]:\n",
    "                inputs = inputs.to(device)\n",
    "                labels = labels.to(device)\n",
    "\n",
    "                # zero the parameter gradients\n",
    "                optimizer.zero_grad()\n",
    "\n",
    "                # forward\n",
    "                # track history if only in train\n",
    "                with torch.set_grad_enabled(phase == 'train'):\n",
    "                    outputs = model(inputs)\n",
    "                    _, preds = torch.max(outputs, 1)\n",
    "                    loss = criterion(outputs, labels)\n",
    "\n",
    "                    # backward + optimize only if in training phase\n",
    "                    if phase == 'train':\n",
    "                        loss.backward()\n",
    "                        optimizer.step()\n",
    "\n",
    "                # statistics\n",
    "                running_loss += loss.item() * inputs.size(0)\n",
    "                running_corrects += torch.sum(preds == labels.data)\n",
    "            if phase == 'train':\n",
    "                scheduler.step()\n",
    "\n",
    "            epoch_loss = running_loss / dataset_sizes_1[phase]\n",
    "            epoch_acc = running_corrects.double() / dataset_sizes_1[phase]\n",
    "\n",
    "            print('{} Loss: {:.4f} Acc: {:.4f}'.format(\n",
    "                phase, epoch_loss, epoch_acc))\n",
    "\n",
    "            # deep copy the model\n",
    "            if phase == 'val' and epoch_acc > best_acc:\n",
    "                best_acc = epoch_acc\n",
    "                best_model_wts = copy.deepcopy(model.state_dict())\n",
    "            if phase == 'val':\n",
    "                valid_loss.append(epoch_loss)\n",
    "                valid_acc.append(epoch_acc)\n",
    "            if phase == 'train':\n",
    "                train_loss.append(epoch_loss)\n",
    "                train_acc.append(epoch_acc)\n",
    "\n",
    "        print()\n",
    "\n",
    "    time_elapsed = time.time() - since\n",
    "    print('Training complete in {:.0f}m {:.0f}s'.format(\n",
    "        time_elapsed // 60, time_elapsed % 60))\n",
    "    print('Best val Acc: {:4f}'.format(best_acc))\n",
    "\n",
    "    # load best model weights\n",
    "    model.load_state_dict(best_model_wts)\n",
    "    return model, train_acc, train_loss, valid_acc, valid_loss"
   ]
  },
  {
   "cell_type": "code",
   "execution_count": 7,
   "metadata": {},
   "outputs": [
    {
     "name": "stdout",
     "output_type": "stream",
     "text": [
      "Epoch 0/24\n",
      "----------\n",
      "train Loss: 0.4809 Acc: 0.8092\n",
      "val Loss: 0.3687 Acc: 0.8351\n",
      "\n",
      "Epoch 1/24\n",
      "----------\n",
      "train Loss: 0.3671 Acc: 0.8626\n",
      "val Loss: 0.1153 Acc: 0.9553\n",
      "\n",
      "Epoch 2/24\n",
      "----------\n",
      "train Loss: 0.3196 Acc: 0.8861\n",
      "val Loss: 0.1246 Acc: 0.9518\n",
      "\n",
      "Epoch 3/24\n",
      "----------\n",
      "train Loss: 0.3185 Acc: 0.8936\n",
      "val Loss: 0.2947 Acc: 0.8728\n",
      "\n",
      "Epoch 4/24\n",
      "----------\n",
      "train Loss: 0.2672 Acc: 0.9097\n",
      "val Loss: 0.1189 Acc: 0.9567\n",
      "\n",
      "Epoch 5/24\n",
      "----------\n",
      "train Loss: 0.2422 Acc: 0.9151\n",
      "val Loss: 0.1223 Acc: 0.9686\n",
      "\n",
      "Epoch 6/24\n",
      "----------\n",
      "train Loss: 0.2730 Acc: 0.9145\n",
      "val Loss: 0.1663 Acc: 0.9378\n",
      "\n",
      "Epoch 7/24\n",
      "----------\n",
      "train Loss: 0.1799 Acc: 0.9368\n",
      "val Loss: 0.0989 Acc: 0.9630\n",
      "\n",
      "Epoch 8/24\n",
      "----------\n",
      "train Loss: 0.1814 Acc: 0.9437\n",
      "val Loss: 0.0862 Acc: 0.9672\n",
      "\n",
      "Epoch 9/24\n",
      "----------\n",
      "train Loss: 0.1835 Acc: 0.9425\n",
      "val Loss: 0.0824 Acc: 0.9706\n",
      "\n",
      "Epoch 10/24\n",
      "----------\n",
      "train Loss: 0.1628 Acc: 0.9520\n",
      "val Loss: 0.0812 Acc: 0.9713\n",
      "\n",
      "Epoch 11/24\n",
      "----------\n",
      "train Loss: 0.1673 Acc: 0.9475\n",
      "val Loss: 0.0793 Acc: 0.9700\n",
      "\n",
      "Epoch 12/24\n",
      "----------\n",
      "train Loss: 0.1655 Acc: 0.9472\n",
      "val Loss: 0.0816 Acc: 0.9693\n",
      "\n",
      "Epoch 13/24\n",
      "----------\n",
      "train Loss: 0.1618 Acc: 0.9475\n",
      "val Loss: 0.0757 Acc: 0.9706\n",
      "\n",
      "Epoch 14/24\n",
      "----------\n",
      "train Loss: 0.1566 Acc: 0.9520\n",
      "val Loss: 0.0806 Acc: 0.9700\n",
      "\n",
      "Epoch 15/24\n",
      "----------\n",
      "train Loss: 0.1429 Acc: 0.9532\n",
      "val Loss: 0.0798 Acc: 0.9693\n",
      "\n",
      "Epoch 16/24\n",
      "----------\n",
      "train Loss: 0.1526 Acc: 0.9544\n",
      "val Loss: 0.0779 Acc: 0.9713\n",
      "\n",
      "Epoch 17/24\n",
      "----------\n",
      "train Loss: 0.1473 Acc: 0.9538\n",
      "val Loss: 0.0761 Acc: 0.9713\n",
      "\n",
      "Epoch 18/24\n",
      "----------\n",
      "train Loss: 0.1464 Acc: 0.9511\n",
      "val Loss: 0.0761 Acc: 0.9713\n",
      "\n",
      "Epoch 19/24\n",
      "----------\n",
      "train Loss: 0.1491 Acc: 0.9508\n",
      "val Loss: 0.0796 Acc: 0.9693\n",
      "\n",
      "Epoch 20/24\n",
      "----------\n",
      "train Loss: 0.1535 Acc: 0.9535\n",
      "val Loss: 0.0758 Acc: 0.9713\n",
      "\n",
      "Epoch 21/24\n",
      "----------\n",
      "train Loss: 0.1487 Acc: 0.9532\n",
      "val Loss: 0.0746 Acc: 0.9713\n",
      "\n",
      "Epoch 22/24\n",
      "----------\n",
      "train Loss: 0.1397 Acc: 0.9613\n",
      "val Loss: 0.0757 Acc: 0.9706\n",
      "\n",
      "Epoch 23/24\n",
      "----------\n",
      "train Loss: 0.1566 Acc: 0.9499\n",
      "val Loss: 0.0736 Acc: 0.9700\n",
      "\n",
      "Epoch 24/24\n",
      "----------\n",
      "train Loss: 0.1455 Acc: 0.9568\n",
      "val Loss: 0.0742 Acc: 0.9706\n",
      "\n",
      "Training complete in 143m 5s\n",
      "Best val Acc: 0.971349\n"
     ]
    }
   ],
   "source": [
    "resnet = models.resnet18(pretrained=True)\n",
    "num_ftrs = resnet.fc.in_features\n",
    "# for param in resnet.parameters():\n",
    "#     param.requires_grad = False\n",
    "resnet.fc = nn.Linear(num_ftrs, len(class_names_1))\n",
    "criterion = nn.CrossEntropyLoss()\n",
    "device = torch.device(\"cuda:0\" if torch.cuda.is_available() else \"cpu\")\n",
    "# Observe that all parameters are being optimized\n",
    "optimizer = optim.SGD(resnet.parameters(), lr=0.001, momentum=0.9)\n",
    "\n",
    "# Decay LR by a factor of 0.1 every 7 epochs\n",
    "exp_lr_scheduler = lr_scheduler.StepLR(optimizer, step_size=7, gamma=0.1)\n",
    "resnet, train_acc, train_loss, valid_acc, valid_loss = train_model(resnet,\n",
    "                                        criterion, optimizer,exp_lr_scheduler, num_epochs=25)"
   ]
  },
  {
   "cell_type": "code",
   "execution_count": 8,
   "metadata": {},
   "outputs": [
    {
     "name": "stdout",
     "output_type": "stream",
     "text": [
      "1431\n",
      "1431\n"
     ]
    }
   ],
   "source": [
    "predicted = []\n",
    "labels = []\n",
    "for data, label in dataloaders_1[\"val\"]:\n",
    "    outputs = resnet(data)\n",
    "    _, preds = torch.max(outputs, 1)\n",
    "    labels.extend(label.tolist())\n",
    "    predicted.extend(preds.tolist())\n",
    "print(len(predicted))\n",
    "print(len(labels))"
   ]
  },
  {
   "cell_type": "code",
   "execution_count": 9,
   "metadata": {},
   "outputs": [
    {
     "data": {
      "image/png": "[encoded data removed]",
      "text/plain": [
       "<Figure size 432x288 with 1 Axes>"
      ]
     },
     "metadata": {
      "needs_background": "light"
     },
     "output_type": "display_data"
    }
   ],
   "source": [
    "plt.plot(train_loss, label='Training loss')\n",
    "plt.plot(valid_loss, label='Validation loss')\n",
    "plt.legend(frameon=False)\n",
    "plt.show()"
   ]
  },
  {
   "cell_type": "code",
   "execution_count": 10,
   "metadata": {},
   "outputs": [
    {
     "data": {
      "image/png": "[encoded data removed]",
      "text/plain": [
       "<Figure size 432x288 with 1 Axes>"
      ]
     },
     "metadata": {
      "needs_background": "light"
     },
     "output_type": "display_data"
    }
   ],
   "source": [
    "plt.plot(train_acc, label='Training accuarcy')\n",
    "plt.plot(valid_acc, label='Validation accuarcy')\n",
    "plt.legend(frameon=False)\n",
    "plt.show()"
   ]
  },
  {
   "cell_type": "code",
   "execution_count": 11,
   "metadata": {},
   "outputs": [
    {
     "name": "stdout",
     "output_type": "stream",
     "text": [
      "              precision    recall  f1-score   support\n",
      "\n",
      "      Normal       0.95      0.96      0.96       479\n",
      "   pneumonie       0.98      0.98      0.98       952\n",
      "\n",
      "    accuracy                           0.97      1431\n",
      "   macro avg       0.97      0.97      0.97      1431\n",
      "weighted avg       0.97      0.97      0.97      1431\n",
      "\n"
     ]
    }
   ],
   "source": [
    "from sklearn.metrics import classification_report, confusion_matrix\n",
    "import pandas as pd\n",
    "import seaborn as sns\n",
    "print(classification_report(labels, predicted, target_names=class_names_1))\n",
    "cmf = confusion_matrix(labels,predicted,normalize=\"true\")\n",
    "cmf = pd.DataFrame(cmf, \n",
    "  index = class_names_1,\n",
    "  columns = class_names_1)"
   ]
  },
  {
   "cell_type": "code",
   "execution_count": 12,
   "metadata": {},
   "outputs": [
    {
     "data": {
      "text/plain": [
       "<matplotlib.axes._subplots.AxesSubplot at 0x7feafb6826a0>"
      ]
     },
     "execution_count": 12,
     "metadata": {},
     "output_type": "execute_result"
    },
    {
     "data": {
      "image/png": "[encoded data removed]",
      "text/plain": [
       "<Figure size 432x288 with 2 Axes>"
      ]
     },
     "metadata": {
      "needs_background": "light"
     },
     "output_type": "display_data"
    }
   ],
   "source": [
    "sns.heatmap(cmf, cmap='Blues',annot=True)"
   ]
  },
  {
   "cell_type": "markdown",
   "metadata": {},
   "source": [
    "## get the feature vector from the covid and non covid"
   ]
  },
  {
   "cell_type": "code",
   "execution_count": 13,
   "metadata": {},
   "outputs": [],
   "source": [
    "model = resnet\n",
    "layer = model._modules.get('avgpool')"
   ]
  },
  {
   "cell_type": "code",
   "execution_count": 14,
   "metadata": {},
   "outputs": [],
   "source": [
    "data_dir = 'Data_2/'\n",
    "image_datasets_2 = {x: datasets.ImageFolder(os.path.join(data_dir, x),\n",
    "                                          data_transforms[x])\n",
    "                  for x in ['train', 'val']}\n",
    "dataloaders_2 = {x: torch.utils.data.DataLoader(image_datasets_2[x], batch_size=8,\n",
    "                                             shuffle=True, num_workers=4)\n",
    "              for x in ['train', 'val']}"
   ]
  },
  {
   "cell_type": "code",
   "execution_count": 15,
   "metadata": {},
   "outputs": [
    {
     "data": {
      "text/plain": [
       "['COVID-19', 'non-COVID-19']"
      ]
     },
     "execution_count": 15,
     "metadata": {},
     "output_type": "execute_result"
    }
   ],
   "source": [
    "dataset_sizes_2 = {x: len(image_datasets_2[x]) for x in ['train', 'val']}\n",
    "class_names_2 = image_datasets_2['train'].classes\n",
    "class_names_2"
   ]
  },
  {
   "cell_type": "code",
   "execution_count": 16,
   "metadata": {},
   "outputs": [],
   "source": [
    "def get_vector_from_batch(batch,model):\n",
    "    my_embeddings = torch.zeros(batch.shape[0],512)\n",
    "    def copy_data(m, i, o):\n",
    "        N,C,H,W = o.shape\n",
    "        o = o.reshape(N,C)\n",
    "        my_embeddings.copy_(o.data)\n",
    "    h = layer.register_forward_hook(copy_data)\n",
    "    model(batch)    # 7. Detach our copy function from the layer\n",
    "    h.remove()    # 8. Return the feature vector\n",
    "    #return features\n",
    "    return my_embeddings"
   ]
  },
  {
   "cell_type": "code",
   "execution_count": 17,
   "metadata": {},
   "outputs": [],
   "source": [
    "train_data_set = torch.empty(0,513)\n",
    "for data,label in dataloaders_2[\"train\"]:\n",
    "    vector_features = get_vector_from_batch(data,model)\n",
    "    vector_features = torch.cat((vector_features,label.reshape(-1,1).float()),1)\n",
    "    train_data_set = torch.cat((train_data_set,vector_features),0)"
   ]
  },
  {
   "cell_type": "code",
   "execution_count": 18,
   "metadata": {},
   "outputs": [],
   "source": [
    "val_data_set = torch.empty(0,513)\n",
    "for data,label in dataloaders_2[\"val\"]:\n",
    "    vector_features = get_vector_from_batch(data,model)\n",
    "    vector_features = torch.cat((vector_features,label.reshape(-1,1).float()),1)\n",
    "    val_data_set = torch.cat((val_data_set,vector_features),0)"
   ]
  },
  {
   "cell_type": "code",
   "execution_count": 19,
   "metadata": {},
   "outputs": [],
   "source": [
    "train_df = pd.DataFrame(train_data_set.numpy())\n",
    "val_df = pd.DataFrame(val_data_set.numpy())\n",
    "X_train = train_df.loc[:,:511]\n",
    "y_train = train_df.loc[:,512]\n",
    "X_val = val_df.loc[:,:511]\n",
    "y_val = val_df.loc[:,512]"
   ]
  },
  {
   "cell_type": "code",
   "execution_count": 20,
   "metadata": {},
   "outputs": [
    {
     "data": {
      "text/html": [
       "<div>\n",
       "<style scoped>\n",
       "    .dataframe tbody tr th:only-of-type {\n",
       "        vertical-align: middle;\n",
       "    }\n",
       "\n",
       "    .dataframe tbody tr th {\n",
       "        vertical-align: top;\n",
       "    }\n",
       "\n",
       "    .dataframe thead th {\n",
       "        text-align: right;\n",
       "    }\n",
       "</style>\n",
       "<table border=\"1\" class=\"dataframe\">\n",
       "  <thead>\n",
       "    <tr style=\"text-align: right;\">\n",
       "      <th></th>\n",
       "      <th>0</th>\n",
       "      <th>1</th>\n",
       "      <th>2</th>\n",
       "      <th>3</th>\n",
       "      <th>4</th>\n",
       "      <th>5</th>\n",
       "      <th>6</th>\n",
       "      <th>7</th>\n",
       "      <th>8</th>\n",
       "      <th>9</th>\n",
       "      <th>...</th>\n",
       "      <th>502</th>\n",
       "      <th>503</th>\n",
       "      <th>504</th>\n",
       "      <th>505</th>\n",
       "      <th>506</th>\n",
       "      <th>507</th>\n",
       "      <th>508</th>\n",
       "      <th>509</th>\n",
       "      <th>510</th>\n",
       "      <th>511</th>\n",
       "    </tr>\n",
       "  </thead>\n",
       "  <tbody>\n",
       "    <tr>\n",
       "      <th>0</th>\n",
       "      <td>4.780672</td>\n",
       "      <td>3.648827</td>\n",
       "      <td>0.766199</td>\n",
       "      <td>5.032229</td>\n",
       "      <td>5.487140</td>\n",
       "      <td>3.811644</td>\n",
       "      <td>3.286817</td>\n",
       "      <td>3.272629</td>\n",
       "      <td>3.189388</td>\n",
       "      <td>3.878075</td>\n",
       "      <td>...</td>\n",
       "      <td>4.084568</td>\n",
       "      <td>3.626387</td>\n",
       "      <td>2.788576</td>\n",
       "      <td>3.376503</td>\n",
       "      <td>1.416519</td>\n",
       "      <td>4.806436</td>\n",
       "      <td>0.544019</td>\n",
       "      <td>5.702686</td>\n",
       "      <td>3.913139</td>\n",
       "      <td>4.355067</td>\n",
       "    </tr>\n",
       "    <tr>\n",
       "      <th>1</th>\n",
       "      <td>0.853404</td>\n",
       "      <td>0.161060</td>\n",
       "      <td>0.168109</td>\n",
       "      <td>0.689483</td>\n",
       "      <td>0.441593</td>\n",
       "      <td>0.116573</td>\n",
       "      <td>1.991347</td>\n",
       "      <td>0.800933</td>\n",
       "      <td>1.274839</td>\n",
       "      <td>0.714169</td>\n",
       "      <td>...</td>\n",
       "      <td>0.701749</td>\n",
       "      <td>0.629379</td>\n",
       "      <td>0.006900</td>\n",
       "      <td>0.906463</td>\n",
       "      <td>0.255667</td>\n",
       "      <td>0.070327</td>\n",
       "      <td>0.000000</td>\n",
       "      <td>1.076966</td>\n",
       "      <td>0.607893</td>\n",
       "      <td>0.688281</td>\n",
       "    </tr>\n",
       "    <tr>\n",
       "      <th>2</th>\n",
       "      <td>2.159546</td>\n",
       "      <td>2.217506</td>\n",
       "      <td>1.207219</td>\n",
       "      <td>2.534765</td>\n",
       "      <td>1.859745</td>\n",
       "      <td>1.567364</td>\n",
       "      <td>1.178215</td>\n",
       "      <td>2.356596</td>\n",
       "      <td>1.326023</td>\n",
       "      <td>1.075339</td>\n",
       "      <td>...</td>\n",
       "      <td>1.752168</td>\n",
       "      <td>0.971145</td>\n",
       "      <td>0.692433</td>\n",
       "      <td>1.664463</td>\n",
       "      <td>0.160089</td>\n",
       "      <td>2.262599</td>\n",
       "      <td>0.083026</td>\n",
       "      <td>2.328383</td>\n",
       "      <td>1.150683</td>\n",
       "      <td>1.564910</td>\n",
       "    </tr>\n",
       "    <tr>\n",
       "      <th>3</th>\n",
       "      <td>1.003140</td>\n",
       "      <td>0.611247</td>\n",
       "      <td>0.124396</td>\n",
       "      <td>1.876861</td>\n",
       "      <td>1.729450</td>\n",
       "      <td>0.282985</td>\n",
       "      <td>2.631355</td>\n",
       "      <td>1.800438</td>\n",
       "      <td>0.532838</td>\n",
       "      <td>1.051250</td>\n",
       "      <td>...</td>\n",
       "      <td>0.468186</td>\n",
       "      <td>0.524298</td>\n",
       "      <td>0.239074</td>\n",
       "      <td>0.550960</td>\n",
       "      <td>1.334177</td>\n",
       "      <td>0.683950</td>\n",
       "      <td>1.088635</td>\n",
       "      <td>0.663046</td>\n",
       "      <td>1.394752</td>\n",
       "      <td>0.738687</td>\n",
       "    </tr>\n",
       "    <tr>\n",
       "      <th>4</th>\n",
       "      <td>1.628822</td>\n",
       "      <td>1.539545</td>\n",
       "      <td>2.542193</td>\n",
       "      <td>3.410957</td>\n",
       "      <td>2.300210</td>\n",
       "      <td>0.895418</td>\n",
       "      <td>2.217288</td>\n",
       "      <td>4.589044</td>\n",
       "      <td>3.972516</td>\n",
       "      <td>2.765754</td>\n",
       "      <td>...</td>\n",
       "      <td>2.957246</td>\n",
       "      <td>4.997468</td>\n",
       "      <td>2.201696</td>\n",
       "      <td>1.275211</td>\n",
       "      <td>1.438118</td>\n",
       "      <td>2.952421</td>\n",
       "      <td>1.400079</td>\n",
       "      <td>2.917141</td>\n",
       "      <td>2.533498</td>\n",
       "      <td>3.603861</td>\n",
       "    </tr>\n",
       "    <tr>\n",
       "      <th>...</th>\n",
       "      <td>...</td>\n",
       "      <td>...</td>\n",
       "      <td>...</td>\n",
       "      <td>...</td>\n",
       "      <td>...</td>\n",
       "      <td>...</td>\n",
       "      <td>...</td>\n",
       "      <td>...</td>\n",
       "      <td>...</td>\n",
       "      <td>...</td>\n",
       "      <td>...</td>\n",
       "      <td>...</td>\n",
       "      <td>...</td>\n",
       "      <td>...</td>\n",
       "      <td>...</td>\n",
       "      <td>...</td>\n",
       "      <td>...</td>\n",
       "      <td>...</td>\n",
       "      <td>...</td>\n",
       "      <td>...</td>\n",
       "      <td>...</td>\n",
       "    </tr>\n",
       "    <tr>\n",
       "      <th>2257</th>\n",
       "      <td>4.885199</td>\n",
       "      <td>2.892106</td>\n",
       "      <td>1.649741</td>\n",
       "      <td>3.510874</td>\n",
       "      <td>4.573176</td>\n",
       "      <td>2.579103</td>\n",
       "      <td>2.702294</td>\n",
       "      <td>3.063379</td>\n",
       "      <td>1.789661</td>\n",
       "      <td>4.886083</td>\n",
       "      <td>...</td>\n",
       "      <td>2.039655</td>\n",
       "      <td>3.390663</td>\n",
       "      <td>3.192866</td>\n",
       "      <td>3.114160</td>\n",
       "      <td>0.179208</td>\n",
       "      <td>2.318156</td>\n",
       "      <td>0.726264</td>\n",
       "      <td>6.218150</td>\n",
       "      <td>2.811490</td>\n",
       "      <td>5.154008</td>\n",
       "    </tr>\n",
       "    <tr>\n",
       "      <th>2258</th>\n",
       "      <td>0.900498</td>\n",
       "      <td>1.675610</td>\n",
       "      <td>1.884970</td>\n",
       "      <td>3.517445</td>\n",
       "      <td>1.565255</td>\n",
       "      <td>2.311597</td>\n",
       "      <td>1.392469</td>\n",
       "      <td>4.151293</td>\n",
       "      <td>5.153139</td>\n",
       "      <td>2.375042</td>\n",
       "      <td>...</td>\n",
       "      <td>2.951900</td>\n",
       "      <td>6.273269</td>\n",
       "      <td>2.535354</td>\n",
       "      <td>2.803545</td>\n",
       "      <td>1.050878</td>\n",
       "      <td>3.878041</td>\n",
       "      <td>0.750559</td>\n",
       "      <td>2.950715</td>\n",
       "      <td>3.905910</td>\n",
       "      <td>3.489128</td>\n",
       "    </tr>\n",
       "    <tr>\n",
       "      <th>2259</th>\n",
       "      <td>5.051883</td>\n",
       "      <td>3.055994</td>\n",
       "      <td>1.617155</td>\n",
       "      <td>5.262040</td>\n",
       "      <td>3.061043</td>\n",
       "      <td>4.976571</td>\n",
       "      <td>0.726404</td>\n",
       "      <td>2.479157</td>\n",
       "      <td>4.114794</td>\n",
       "      <td>2.317750</td>\n",
       "      <td>...</td>\n",
       "      <td>3.595714</td>\n",
       "      <td>1.812973</td>\n",
       "      <td>2.886306</td>\n",
       "      <td>2.840864</td>\n",
       "      <td>0.782223</td>\n",
       "      <td>4.814335</td>\n",
       "      <td>1.288286</td>\n",
       "      <td>5.428624</td>\n",
       "      <td>4.339649</td>\n",
       "      <td>4.427824</td>\n",
       "    </tr>\n",
       "    <tr>\n",
       "      <th>2260</th>\n",
       "      <td>0.893385</td>\n",
       "      <td>2.056482</td>\n",
       "      <td>1.415062</td>\n",
       "      <td>2.869106</td>\n",
       "      <td>2.366255</td>\n",
       "      <td>1.346371</td>\n",
       "      <td>1.531290</td>\n",
       "      <td>2.029397</td>\n",
       "      <td>2.838483</td>\n",
       "      <td>1.916554</td>\n",
       "      <td>...</td>\n",
       "      <td>2.679295</td>\n",
       "      <td>1.921116</td>\n",
       "      <td>2.035328</td>\n",
       "      <td>1.944098</td>\n",
       "      <td>1.071676</td>\n",
       "      <td>1.176629</td>\n",
       "      <td>0.842105</td>\n",
       "      <td>2.320950</td>\n",
       "      <td>2.065818</td>\n",
       "      <td>2.432477</td>\n",
       "    </tr>\n",
       "    <tr>\n",
       "      <th>2261</th>\n",
       "      <td>0.073178</td>\n",
       "      <td>0.217028</td>\n",
       "      <td>0.409166</td>\n",
       "      <td>0.607968</td>\n",
       "      <td>0.149978</td>\n",
       "      <td>0.407648</td>\n",
       "      <td>0.737393</td>\n",
       "      <td>0.009169</td>\n",
       "      <td>1.015972</td>\n",
       "      <td>0.023207</td>\n",
       "      <td>...</td>\n",
       "      <td>0.671903</td>\n",
       "      <td>0.516730</td>\n",
       "      <td>0.018364</td>\n",
       "      <td>0.290546</td>\n",
       "      <td>0.897315</td>\n",
       "      <td>0.033662</td>\n",
       "      <td>0.635261</td>\n",
       "      <td>0.057098</td>\n",
       "      <td>0.308897</td>\n",
       "      <td>0.292188</td>\n",
       "    </tr>\n",
       "  </tbody>\n",
       "</table>\n",
       "<p>2262 rows × 512 columns</p>\n",
       "</div>"
      ],
      "text/plain": [
       "           0         1         2         3         4         5         6    \\\n",
       "0     4.780672  3.648827  0.766199  5.032229  5.487140  3.811644  3.286817   \n",
       "1     0.853404  0.161060  0.168109  0.689483  0.441593  0.116573  1.991347   \n",
       "2     2.159546  2.217506  1.207219  2.534765  1.859745  1.567364  1.178215   \n",
       "3     1.003140  0.611247  0.124396  1.876861  1.729450  0.282985  2.631355   \n",
       "4     1.628822  1.539545  2.542193  3.410957  2.300210  0.895418  2.217288   \n",
       "...        ...       ...       ...       ...       ...       ...       ...   \n",
       "2257  4.885199  2.892106  1.649741  3.510874  4.573176  2.579103  2.702294   \n",
       "2258  0.900498  1.675610  1.884970  3.517445  1.565255  2.311597  1.392469   \n",
       "2259  5.051883  3.055994  1.617155  5.262040  3.061043  4.976571  0.726404   \n",
       "2260  0.893385  2.056482  1.415062  2.869106  2.366255  1.346371  1.531290   \n",
       "2261  0.073178  0.217028  0.409166  0.607968  0.149978  0.407648  0.737393   \n",
       "\n",
       "           7         8         9    ...       502       503       504  \\\n",
       "0     3.272629  3.189388  3.878075  ...  4.084568  3.626387  2.788576   \n",
       "1     0.800933  1.274839  0.714169  ...  0.701749  0.629379  0.006900   \n",
       "2     2.356596  1.326023  1.075339  ...  1.752168  0.971145  0.692433   \n",
       "3     1.800438  0.532838  1.051250  ...  0.468186  0.524298  0.239074   \n",
       "4     4.589044  3.972516  2.765754  ...  2.957246  4.997468  2.201696   \n",
       "...        ...       ...       ...  ...       ...       ...       ...   \n",
       "2257  3.063379  1.789661  4.886083  ...  2.039655  3.390663  3.192866   \n",
       "2258  4.151293  5.153139  2.375042  ...  2.951900  6.273269  2.535354   \n",
       "2259  2.479157  4.114794  2.317750  ...  3.595714  1.812973  2.886306   \n",
       "2260  2.029397  2.838483  1.916554  ...  2.679295  1.921116  2.035328   \n",
       "2261  0.009169  1.015972  0.023207  ...  0.671903  0.516730  0.018364   \n",
       "\n",
       "           505       506       507       508       509       510       511  \n",
       "0     3.376503  1.416519  4.806436  0.544019  5.702686  3.913139  4.355067  \n",
       "1     0.906463  0.255667  0.070327  0.000000  1.076966  0.607893  0.688281  \n",
       "2     1.664463  0.160089  2.262599  0.083026  2.328383  1.150683  1.564910  \n",
       "3     0.550960  1.334177  0.683950  1.088635  0.663046  1.394752  0.738687  \n",
       "4     1.275211  1.438118  2.952421  1.400079  2.917141  2.533498  3.603861  \n",
       "...        ...       ...       ...       ...       ...       ...       ...  \n",
       "2257  3.114160  0.179208  2.318156  0.726264  6.218150  2.811490  5.154008  \n",
       "2258  2.803545  1.050878  3.878041  0.750559  2.950715  3.905910  3.489128  \n",
       "2259  2.840864  0.782223  4.814335  1.288286  5.428624  4.339649  4.427824  \n",
       "2260  1.944098  1.071676  1.176629  0.842105  2.320950  2.065818  2.432477  \n",
       "2261  0.290546  0.897315  0.033662  0.635261  0.057098  0.308897  0.292188  \n",
       "\n",
       "[2262 rows x 512 columns]"
      ]
     },
     "execution_count": 20,
     "metadata": {},
     "output_type": "execute_result"
    }
   ],
   "source": [
    "X_train"
   ]
  },
  {
   "cell_type": "code",
   "execution_count": 21,
   "metadata": {},
   "outputs": [
    {
     "data": {
      "text/html": [
       "<div>\n",
       "<style scoped>\n",
       "    .dataframe tbody tr th:only-of-type {\n",
       "        vertical-align: middle;\n",
       "    }\n",
       "\n",
       "    .dataframe tbody tr th {\n",
       "        vertical-align: top;\n",
       "    }\n",
       "\n",
       "    .dataframe thead th {\n",
       "        text-align: right;\n",
       "    }\n",
       "</style>\n",
       "<table border=\"1\" class=\"dataframe\">\n",
       "  <thead>\n",
       "    <tr style=\"text-align: right;\">\n",
       "      <th></th>\n",
       "      <th>0</th>\n",
       "      <th>1</th>\n",
       "      <th>2</th>\n",
       "      <th>3</th>\n",
       "      <th>4</th>\n",
       "      <th>5</th>\n",
       "      <th>6</th>\n",
       "      <th>7</th>\n",
       "      <th>8</th>\n",
       "      <th>9</th>\n",
       "      <th>...</th>\n",
       "      <th>502</th>\n",
       "      <th>503</th>\n",
       "      <th>504</th>\n",
       "      <th>505</th>\n",
       "      <th>506</th>\n",
       "      <th>507</th>\n",
       "      <th>508</th>\n",
       "      <th>509</th>\n",
       "      <th>510</th>\n",
       "      <th>511</th>\n",
       "    </tr>\n",
       "  </thead>\n",
       "  <tbody>\n",
       "    <tr>\n",
       "      <th>0</th>\n",
       "      <td>0.942442</td>\n",
       "      <td>0.947502</td>\n",
       "      <td>1.330131</td>\n",
       "      <td>1.114431</td>\n",
       "      <td>0.776182</td>\n",
       "      <td>0.546258</td>\n",
       "      <td>1.297881</td>\n",
       "      <td>1.744943</td>\n",
       "      <td>1.147026</td>\n",
       "      <td>1.201077</td>\n",
       "      <td>...</td>\n",
       "      <td>1.131818</td>\n",
       "      <td>0.284336</td>\n",
       "      <td>1.488895</td>\n",
       "      <td>0.695822</td>\n",
       "      <td>0.509032</td>\n",
       "      <td>1.183261</td>\n",
       "      <td>0.618434</td>\n",
       "      <td>1.257652</td>\n",
       "      <td>1.487998</td>\n",
       "      <td>1.191847</td>\n",
       "    </tr>\n",
       "    <tr>\n",
       "      <th>1</th>\n",
       "      <td>2.949499</td>\n",
       "      <td>2.139144</td>\n",
       "      <td>0.751667</td>\n",
       "      <td>0.947313</td>\n",
       "      <td>2.081467</td>\n",
       "      <td>1.447880</td>\n",
       "      <td>1.697419</td>\n",
       "      <td>2.295204</td>\n",
       "      <td>0.789203</td>\n",
       "      <td>1.771376</td>\n",
       "      <td>...</td>\n",
       "      <td>2.570296</td>\n",
       "      <td>1.064444</td>\n",
       "      <td>1.433402</td>\n",
       "      <td>1.829358</td>\n",
       "      <td>1.285768</td>\n",
       "      <td>1.555056</td>\n",
       "      <td>2.388938</td>\n",
       "      <td>1.424089</td>\n",
       "      <td>1.737478</td>\n",
       "      <td>1.856259</td>\n",
       "    </tr>\n",
       "    <tr>\n",
       "      <th>2</th>\n",
       "      <td>0.466336</td>\n",
       "      <td>0.464040</td>\n",
       "      <td>1.017554</td>\n",
       "      <td>0.086129</td>\n",
       "      <td>0.118800</td>\n",
       "      <td>1.005832</td>\n",
       "      <td>0.571776</td>\n",
       "      <td>0.226659</td>\n",
       "      <td>3.109828</td>\n",
       "      <td>0.408835</td>\n",
       "      <td>...</td>\n",
       "      <td>0.401195</td>\n",
       "      <td>0.044552</td>\n",
       "      <td>1.192929</td>\n",
       "      <td>0.312489</td>\n",
       "      <td>0.963584</td>\n",
       "      <td>1.445401</td>\n",
       "      <td>0.746291</td>\n",
       "      <td>0.035823</td>\n",
       "      <td>1.937102</td>\n",
       "      <td>0.025458</td>\n",
       "    </tr>\n",
       "    <tr>\n",
       "      <th>3</th>\n",
       "      <td>6.319531</td>\n",
       "      <td>3.569089</td>\n",
       "      <td>1.649967</td>\n",
       "      <td>5.518997</td>\n",
       "      <td>4.688981</td>\n",
       "      <td>2.481984</td>\n",
       "      <td>3.476136</td>\n",
       "      <td>6.428491</td>\n",
       "      <td>2.726479</td>\n",
       "      <td>5.398639</td>\n",
       "      <td>...</td>\n",
       "      <td>4.060734</td>\n",
       "      <td>4.297673</td>\n",
       "      <td>2.987932</td>\n",
       "      <td>2.687440</td>\n",
       "      <td>0.972488</td>\n",
       "      <td>5.053382</td>\n",
       "      <td>2.019446</td>\n",
       "      <td>6.620450</td>\n",
       "      <td>4.687328</td>\n",
       "      <td>4.433015</td>\n",
       "    </tr>\n",
       "    <tr>\n",
       "      <th>4</th>\n",
       "      <td>1.845835</td>\n",
       "      <td>0.685878</td>\n",
       "      <td>0.719621</td>\n",
       "      <td>1.284427</td>\n",
       "      <td>0.281790</td>\n",
       "      <td>1.307407</td>\n",
       "      <td>3.869298</td>\n",
       "      <td>0.490730</td>\n",
       "      <td>3.755241</td>\n",
       "      <td>1.914269</td>\n",
       "      <td>...</td>\n",
       "      <td>0.605509</td>\n",
       "      <td>3.058104</td>\n",
       "      <td>1.318699</td>\n",
       "      <td>1.063390</td>\n",
       "      <td>1.425344</td>\n",
       "      <td>2.516992</td>\n",
       "      <td>0.000000</td>\n",
       "      <td>1.449827</td>\n",
       "      <td>1.861203</td>\n",
       "      <td>2.402375</td>\n",
       "    </tr>\n",
       "    <tr>\n",
       "      <th>...</th>\n",
       "      <td>...</td>\n",
       "      <td>...</td>\n",
       "      <td>...</td>\n",
       "      <td>...</td>\n",
       "      <td>...</td>\n",
       "      <td>...</td>\n",
       "      <td>...</td>\n",
       "      <td>...</td>\n",
       "      <td>...</td>\n",
       "      <td>...</td>\n",
       "      <td>...</td>\n",
       "      <td>...</td>\n",
       "      <td>...</td>\n",
       "      <td>...</td>\n",
       "      <td>...</td>\n",
       "      <td>...</td>\n",
       "      <td>...</td>\n",
       "      <td>...</td>\n",
       "      <td>...</td>\n",
       "      <td>...</td>\n",
       "      <td>...</td>\n",
       "    </tr>\n",
       "    <tr>\n",
       "      <th>947</th>\n",
       "      <td>0.034169</td>\n",
       "      <td>0.150500</td>\n",
       "      <td>0.848417</td>\n",
       "      <td>0.298284</td>\n",
       "      <td>0.185024</td>\n",
       "      <td>0.065810</td>\n",
       "      <td>0.000000</td>\n",
       "      <td>0.592135</td>\n",
       "      <td>0.800331</td>\n",
       "      <td>0.011534</td>\n",
       "      <td>...</td>\n",
       "      <td>0.757460</td>\n",
       "      <td>0.179208</td>\n",
       "      <td>0.396234</td>\n",
       "      <td>0.578252</td>\n",
       "      <td>1.768168</td>\n",
       "      <td>0.625454</td>\n",
       "      <td>0.859062</td>\n",
       "      <td>0.119589</td>\n",
       "      <td>0.364769</td>\n",
       "      <td>0.026186</td>\n",
       "    </tr>\n",
       "    <tr>\n",
       "      <th>948</th>\n",
       "      <td>2.949778</td>\n",
       "      <td>1.294598</td>\n",
       "      <td>2.176640</td>\n",
       "      <td>1.611333</td>\n",
       "      <td>1.516620</td>\n",
       "      <td>1.351271</td>\n",
       "      <td>2.010842</td>\n",
       "      <td>2.802786</td>\n",
       "      <td>1.103980</td>\n",
       "      <td>2.832929</td>\n",
       "      <td>...</td>\n",
       "      <td>2.070964</td>\n",
       "      <td>1.941517</td>\n",
       "      <td>2.633971</td>\n",
       "      <td>2.483387</td>\n",
       "      <td>0.956617</td>\n",
       "      <td>3.104342</td>\n",
       "      <td>0.886564</td>\n",
       "      <td>2.940046</td>\n",
       "      <td>3.423226</td>\n",
       "      <td>2.670691</td>\n",
       "    </tr>\n",
       "    <tr>\n",
       "      <th>949</th>\n",
       "      <td>4.535501</td>\n",
       "      <td>5.036533</td>\n",
       "      <td>2.453823</td>\n",
       "      <td>4.417117</td>\n",
       "      <td>3.671421</td>\n",
       "      <td>3.924851</td>\n",
       "      <td>2.959502</td>\n",
       "      <td>4.276402</td>\n",
       "      <td>4.501682</td>\n",
       "      <td>4.087489</td>\n",
       "      <td>...</td>\n",
       "      <td>4.092863</td>\n",
       "      <td>4.943571</td>\n",
       "      <td>4.553597</td>\n",
       "      <td>3.730054</td>\n",
       "      <td>2.846315</td>\n",
       "      <td>3.871705</td>\n",
       "      <td>0.246764</td>\n",
       "      <td>4.074544</td>\n",
       "      <td>6.426731</td>\n",
       "      <td>5.153198</td>\n",
       "    </tr>\n",
       "    <tr>\n",
       "      <th>950</th>\n",
       "      <td>0.106273</td>\n",
       "      <td>0.360384</td>\n",
       "      <td>0.961646</td>\n",
       "      <td>0.000000</td>\n",
       "      <td>0.134050</td>\n",
       "      <td>0.449361</td>\n",
       "      <td>0.638935</td>\n",
       "      <td>0.072263</td>\n",
       "      <td>0.316925</td>\n",
       "      <td>0.253705</td>\n",
       "      <td>...</td>\n",
       "      <td>0.444757</td>\n",
       "      <td>0.252927</td>\n",
       "      <td>0.190200</td>\n",
       "      <td>0.177883</td>\n",
       "      <td>0.165404</td>\n",
       "      <td>0.681331</td>\n",
       "      <td>0.087729</td>\n",
       "      <td>0.383511</td>\n",
       "      <td>0.456990</td>\n",
       "      <td>0.000000</td>\n",
       "    </tr>\n",
       "    <tr>\n",
       "      <th>951</th>\n",
       "      <td>5.185715</td>\n",
       "      <td>1.181050</td>\n",
       "      <td>0.723021</td>\n",
       "      <td>0.419865</td>\n",
       "      <td>2.376017</td>\n",
       "      <td>4.401103</td>\n",
       "      <td>3.868429</td>\n",
       "      <td>0.680855</td>\n",
       "      <td>4.420755</td>\n",
       "      <td>2.226651</td>\n",
       "      <td>...</td>\n",
       "      <td>1.144994</td>\n",
       "      <td>4.093522</td>\n",
       "      <td>0.746210</td>\n",
       "      <td>3.676707</td>\n",
       "      <td>0.604848</td>\n",
       "      <td>2.869278</td>\n",
       "      <td>0.149144</td>\n",
       "      <td>1.422246</td>\n",
       "      <td>3.389388</td>\n",
       "      <td>2.186969</td>\n",
       "    </tr>\n",
       "  </tbody>\n",
       "</table>\n",
       "<p>952 rows × 512 columns</p>\n",
       "</div>"
      ],
      "text/plain": [
       "          0         1         2         3         4         5         6    \\\n",
       "0    0.942442  0.947502  1.330131  1.114431  0.776182  0.546258  1.297881   \n",
       "1    2.949499  2.139144  0.751667  0.947313  2.081467  1.447880  1.697419   \n",
       "2    0.466336  0.464040  1.017554  0.086129  0.118800  1.005832  0.571776   \n",
       "3    6.319531  3.569089  1.649967  5.518997  4.688981  2.481984  3.476136   \n",
       "4    1.845835  0.685878  0.719621  1.284427  0.281790  1.307407  3.869298   \n",
       "..        ...       ...       ...       ...       ...       ...       ...   \n",
       "947  0.034169  0.150500  0.848417  0.298284  0.185024  0.065810  0.000000   \n",
       "948  2.949778  1.294598  2.176640  1.611333  1.516620  1.351271  2.010842   \n",
       "949  4.535501  5.036533  2.453823  4.417117  3.671421  3.924851  2.959502   \n",
       "950  0.106273  0.360384  0.961646  0.000000  0.134050  0.449361  0.638935   \n",
       "951  5.185715  1.181050  0.723021  0.419865  2.376017  4.401103  3.868429   \n",
       "\n",
       "          7         8         9    ...       502       503       504  \\\n",
       "0    1.744943  1.147026  1.201077  ...  1.131818  0.284336  1.488895   \n",
       "1    2.295204  0.789203  1.771376  ...  2.570296  1.064444  1.433402   \n",
       "2    0.226659  3.109828  0.408835  ...  0.401195  0.044552  1.192929   \n",
       "3    6.428491  2.726479  5.398639  ...  4.060734  4.297673  2.987932   \n",
       "4    0.490730  3.755241  1.914269  ...  0.605509  3.058104  1.318699   \n",
       "..        ...       ...       ...  ...       ...       ...       ...   \n",
       "947  0.592135  0.800331  0.011534  ...  0.757460  0.179208  0.396234   \n",
       "948  2.802786  1.103980  2.832929  ...  2.070964  1.941517  2.633971   \n",
       "949  4.276402  4.501682  4.087489  ...  4.092863  4.943571  4.553597   \n",
       "950  0.072263  0.316925  0.253705  ...  0.444757  0.252927  0.190200   \n",
       "951  0.680855  4.420755  2.226651  ...  1.144994  4.093522  0.746210   \n",
       "\n",
       "          505       506       507       508       509       510       511  \n",
       "0    0.695822  0.509032  1.183261  0.618434  1.257652  1.487998  1.191847  \n",
       "1    1.829358  1.285768  1.555056  2.388938  1.424089  1.737478  1.856259  \n",
       "2    0.312489  0.963584  1.445401  0.746291  0.035823  1.937102  0.025458  \n",
       "3    2.687440  0.972488  5.053382  2.019446  6.620450  4.687328  4.433015  \n",
       "4    1.063390  1.425344  2.516992  0.000000  1.449827  1.861203  2.402375  \n",
       "..        ...       ...       ...       ...       ...       ...       ...  \n",
       "947  0.578252  1.768168  0.625454  0.859062  0.119589  0.364769  0.026186  \n",
       "948  2.483387  0.956617  3.104342  0.886564  2.940046  3.423226  2.670691  \n",
       "949  3.730054  2.846315  3.871705  0.246764  4.074544  6.426731  5.153198  \n",
       "950  0.177883  0.165404  0.681331  0.087729  0.383511  0.456990  0.000000  \n",
       "951  3.676707  0.604848  2.869278  0.149144  1.422246  3.389388  2.186969  \n",
       "\n",
       "[952 rows x 512 columns]"
      ]
     },
     "execution_count": 21,
     "metadata": {},
     "output_type": "execute_result"
    }
   ],
   "source": [
    "X_val"
   ]
  },
  {
   "cell_type": "code",
   "execution_count": 22,
   "metadata": {},
   "outputs": [],
   "source": [
    "from sklearn import svm\n",
    "from sklearn.model_selection import GridSearchCV\n",
    "from sklearn.linear_model import LogisticRegression\n",
    "from sklearn.preprocessing import StandardScaler"
   ]
  },
  {
   "cell_type": "code",
   "execution_count": 23,
   "metadata": {},
   "outputs": [
    {
     "name": "stdout",
     "output_type": "stream",
     "text": [
      "Fitting 5 folds for each of 24 candidates, totalling 120 fits\n"
     ]
    },
    {
     "name": "stderr",
     "output_type": "stream",
     "text": [
      "[Parallel(n_jobs=1)]: Using backend SequentialBackend with 1 concurrent workers.\n",
      "[Parallel(n_jobs=1)]: Done 120 out of 120 | elapsed:  3.7min finished\n"
     ]
    },
    {
     "name": "stdout",
     "output_type": "stream",
     "text": [
      "Best Parameters:\n",
      " {'C': 100, 'gamma': 0.001}\n",
      "Best Estimators:\n",
      " SVC(C=100, gamma=0.001)\n",
      "Best score:\n",
      " 0.9456230830842565\n"
     ]
    }
   ],
   "source": [
    "param_grid = {'C': [0.1, 1, 10, 100], 'gamma': [1, 0.1, 0.01, 0.001, 0.00001, 10]}\n",
    "clf_grid = GridSearchCV(svm.SVC(), param_grid, verbose=1)\n",
    "clf_grid.fit(X_train, y_train)\n",
    "print(\"Best Parameters:\\n\", clf_grid.best_params_)\n",
    "print(\"Best Estimators:\\n\", clf_grid.best_estimator_)\n",
    "print(\"Best score:\\n\", clf_grid.best_score_)"
   ]
  },
  {
   "cell_type": "code",
   "execution_count": 24,
   "metadata": {},
   "outputs": [],
   "source": [
    "clf = svm.SVC(C=100, gamma=0.001)\n",
    "clf.fit(X_train, y_train)\n",
    "y_pred = clf.predict(X_val)\n"
   ]
  },
  {
   "cell_type": "code",
   "execution_count": 25,
   "metadata": {},
   "outputs": [
    {
     "name": "stdout",
     "output_type": "stream",
     "text": [
      "              precision    recall  f1-score   support\n",
      "\n",
      "    COVID-19       0.76      0.81      0.78       112\n",
      "non-COVID-19       0.97      0.97      0.97       840\n",
      "\n",
      "    accuracy                           0.95       952\n",
      "   macro avg       0.87      0.89      0.88       952\n",
      "weighted avg       0.95      0.95      0.95       952\n",
      "\n"
     ]
    }
   ],
   "source": [
    "from sklearn.metrics import classification_report, confusion_matrix\n",
    "import seaborn as sns\n",
    "print(classification_report(y_val, y_pred, target_names=class_names_2))"
   ]
  },
  {
   "cell_type": "code",
   "execution_count": 26,
   "metadata": {},
   "outputs": [
    {
     "name": "stdout",
     "output_type": "stream",
     "text": [
      "[[0.8125     0.1875    ]\n",
      " [0.03452381 0.96547619]]\n"
     ]
    }
   ],
   "source": [
    "cmf = confusion_matrix(y_val,y_pred,normalize=\"true\")\n",
    "print(cmf)\n",
    "cmf = pd.DataFrame(cmf, \n",
    "  index = class_names_2,\n",
    "  columns = class_names_2)"
   ]
  },
  {
   "cell_type": "code",
   "execution_count": 27,
   "metadata": {},
   "outputs": [
    {
     "data": {
      "text/plain": [
       "<matplotlib.axes._subplots.AxesSubplot at 0x7feafb5c3438>"
      ]
     },
     "execution_count": 27,
     "metadata": {},
     "output_type": "execute_result"
    },
    {
     "data": {
      "image/png": "[encoded data removed]",
      "text/plain": [
       "<Figure size 432x288 with 2 Axes>"
      ]
     },
     "metadata": {
      "needs_background": "light"
     },
     "output_type": "display_data"
    }
   ],
   "source": [
    "sns.heatmap(cmf, cmap='Blues',annot=True)"
   ]
  },
  {
   "cell_type": "markdown",
   "metadata": {},
   "source": [
    "## logistic regression"
   ]
  },
  {
   "cell_type": "code",
   "execution_count": 28,
   "metadata": {},
   "outputs": [
    {
     "data": {
      "text/plain": [
       "LogisticRegression(max_iter=10000)"
      ]
     },
     "execution_count": 28,
     "metadata": {},
     "output_type": "execute_result"
    }
   ],
   "source": [
    "lrclf = LogisticRegression(max_iter=10000)\n",
    "lrclf.fit(X_train, y_train)"
   ]
  },
  {
   "cell_type": "code",
   "execution_count": 29,
   "metadata": {},
   "outputs": [
    {
     "name": "stdout",
     "output_type": "stream",
     "text": [
      "[[0.74107143 0.25892857]\n",
      " [0.03214286 0.96785714]]\n"
     ]
    },
    {
     "data": {
      "text/plain": [
       "<matplotlib.axes._subplots.AxesSubplot at 0x7feb3f957ba8>"
      ]
     },
     "execution_count": 29,
     "metadata": {},
     "output_type": "execute_result"
    },
    {
     "data": {
      "image/png": "[encoded data removed]",
      "text/plain": [
       "<Figure size 432x288 with 2 Axes>"
      ]
     },
     "metadata": {
      "needs_background": "light"
     },
     "output_type": "display_data"
    }
   ],
   "source": [
    "y_pred = lrclf.predict(X_val)\n",
    "cmf = confusion_matrix(y_val,y_pred,normalize=\"true\")\n",
    "print(cmf)\n",
    "cmf = pd.DataFrame(cmf, \n",
    "  index = class_names_2,\n",
    "  columns = class_names_2)\n",
    "sns.heatmap(cmf, cmap='Blues',annot=True)"
   ]
  },
  {
   "cell_type": "markdown",
   "metadata": {},
   "source": [
    "## decission tree"
   ]
  },
  {
   "cell_type": "code",
   "execution_count": 30,
   "metadata": {},
   "outputs": [
    {
     "data": {
      "text/plain": [
       "DecisionTreeClassifier(criterion='entropy', max_depth=220)"
      ]
     },
     "execution_count": 30,
     "metadata": {},
     "output_type": "execute_result"
    }
   ],
   "source": [
    "from sklearn.tree import DecisionTreeClassifier\n",
    "Dtclf = DecisionTreeClassifier(criterion=\"entropy\", max_depth=220)\n",
    "Dtclf.fit(X_train, y_train)"
   ]
  },
  {
   "cell_type": "code",
   "execution_count": 31,
   "metadata": {},
   "outputs": [
    {
     "name": "stdout",
     "output_type": "stream",
     "text": [
      "[[0.54464286 0.45535714]\n",
      " [0.07857143 0.92142857]]\n"
     ]
    },
    {
     "data": {
      "text/plain": [
       "<matplotlib.axes._subplots.AxesSubplot at 0x7feaef53da58>"
      ]
     },
     "execution_count": 31,
     "metadata": {},
     "output_type": "execute_result"
    },
    {
     "data": {
      "image/png": "[encoded data removed]",
      "text/plain": [
       "<Figure size 432x288 with 2 Axes>"
      ]
     },
     "metadata": {
      "needs_background": "light"
     },
     "output_type": "display_data"
    }
   ],
   "source": [
    "y_pred = Dtclf.predict(X_val)\n",
    "cmf = confusion_matrix(y_val,y_pred,normalize=\"true\")\n",
    "print(cmf)\n",
    "cmf = pd.DataFrame(cmf, \n",
    "  index = class_names_2,\n",
    "  columns = class_names_2)\n",
    "sns.heatmap(cmf, cmap='Blues',annot=True)"
   ]
  },
  {
   "cell_type": "markdown",
   "metadata": {},
   "source": [
    "## FNN"
   ]
  },
  {
   "cell_type": "code",
   "execution_count": 147,
   "metadata": {},
   "outputs": [],
   "source": [
    "from torch.utils.data import TensorDataset, DataLoader\n",
    "train_data = TensorDataset(torch.from_numpy(X_train.to_numpy()),torch.from_numpy(y_train.to_numpy()))\n",
    "valid_data = TensorDataset(torch.from_numpy(X_val.to_numpy()),torch.from_numpy(y_val.to_numpy()))\n",
    "train_loader = DataLoader(train_data,shuffle=True,batch_size=4)\n",
    "val_loader = DataLoader(valid_data,shuffle=True,batch_size=4)"
   ]
  },
  {
   "cell_type": "code",
   "execution_count": 148,
   "metadata": {},
   "outputs": [],
   "source": [
    "x,y = next(iter(train_loader))"
   ]
  },
  {
   "cell_type": "code",
   "execution_count": 149,
   "metadata": {},
   "outputs": [
    {
     "data": {
      "text/plain": [
       "torch.Size([4, 512])"
      ]
     },
     "execution_count": 149,
     "metadata": {},
     "output_type": "execute_result"
    }
   ],
   "source": [
    "x.shape"
   ]
  },
  {
   "cell_type": "code",
   "execution_count": 150,
   "metadata": {},
   "outputs": [
    {
     "data": {
      "text/plain": [
       "torch.Size([4])"
      ]
     },
     "execution_count": 150,
     "metadata": {},
     "output_type": "execute_result"
    }
   ],
   "source": [
    "y.shape"
   ]
  },
  {
   "cell_type": "code",
   "execution_count": 151,
   "metadata": {},
   "outputs": [],
   "source": [
    "class fnn_model(nn.Module):\n",
    "    def __init__(self):\n",
    "        super(fnn_model,self).__init__()\n",
    "        \n",
    "        self.fc1 = nn.Linear(in_features=512,out_features=256)\n",
    "        self.relu = nn.ReLU(inplace=True)\n",
    "        self.dropout = nn.Dropout(p=0.5 ,inplace=False)\n",
    "        self.fc2 = nn.Linear(in_features = 256,out_features=128)\n",
    "        self.relu2 = nn.ReLU(inplace=True)\n",
    "        self.dropout2 = nn.Dropout(p=0.5,inplace=False)\n",
    "        self.out = nn.Linear(in_features=128,out_features=2)\n",
    "    def forward(self,inp):\n",
    "        x = self.fc1(inp)\n",
    "        x = self.relu(x)\n",
    "        x = self.dropout(x)\n",
    "        x = self.fc2(x)\n",
    "        x = self.relu2(x)\n",
    "        x = self.dropout2(x)\n",
    "        x = self.out(x)\n",
    "        return x\n"
   ]
  },
  {
   "cell_type": "code",
   "execution_count": 152,
   "metadata": {},
   "outputs": [],
   "source": [
    "fnn = fnn_model()"
   ]
  },
  {
   "cell_type": "code",
   "execution_count": 153,
   "metadata": {},
   "outputs": [
    {
     "data": {
      "text/plain": [
       "fnn_model(\n",
       "  (fc1): Linear(in_features=512, out_features=256, bias=True)\n",
       "  (relu): ReLU(inplace=True)\n",
       "  (dropout): Dropout(p=0.5, inplace=False)\n",
       "  (fc2): Linear(in_features=256, out_features=128, bias=True)\n",
       "  (relu2): ReLU(inplace=True)\n",
       "  (dropout2): Dropout(p=0.5, inplace=False)\n",
       "  (out): Linear(in_features=128, out_features=2, bias=True)\n",
       ")"
      ]
     },
     "execution_count": 153,
     "metadata": {},
     "output_type": "execute_result"
    }
   ],
   "source": [
    "fnn"
   ]
  },
  {
   "cell_type": "code",
   "execution_count": 154,
   "metadata": {},
   "outputs": [],
   "source": [
    "dataloaders_3 = {\"train\":train_loader,\"val\":val_loader}\n",
    "dataset_sizes_3 = dataset_sizes_2"
   ]
  },
  {
   "cell_type": "code",
   "execution_count": 155,
   "metadata": {},
   "outputs": [],
   "source": [
    "def train_model(model, criterion, optimizer, scheduler, num_epochs=25):\n",
    "    since = time.time()\n",
    "    train_acc = []\n",
    "    valid_acc = []\n",
    "    train_loss = []\n",
    "    valid_loss = []\n",
    "\n",
    "    best_model_wts = copy.deepcopy(model.state_dict())\n",
    "    best_acc = 0.0\n",
    "\n",
    "    for epoch in range(num_epochs):\n",
    "        print('Epoch {}/{}'.format(epoch, num_epochs - 1))\n",
    "        print('-' * 10)\n",
    "\n",
    "        # Each epoch has a training and validation phase\n",
    "        for phase in ['train', 'val']:\n",
    "            if phase == 'train':\n",
    "                model.train()  # Set model to training mode\n",
    "            else:\n",
    "                model.eval()   # Set model to evaluate mode\n",
    "\n",
    "            running_loss = 0.0\n",
    "            running_corrects = 0\n",
    "\n",
    "            # Iterate over data.\n",
    "            for inputs, labels in dataloaders_3[phase]:\n",
    "                inputs = inputs.to(device)\n",
    "                labels = labels.to(device)\n",
    "\n",
    "                # zero the parameter gradients\n",
    "                optimizer.zero_grad()\n",
    "\n",
    "                # forward\n",
    "                # track history if only in train\n",
    "                with torch.set_grad_enabled(phase == 'train'):\n",
    "                    outputs = model(inputs)\n",
    "                    _, preds = torch.max(outputs, 1)\n",
    "                    loss = criterion(outputs, labels.type(torch.LongTensor))\n",
    "\n",
    "                    # backward + optimize only if in training phase\n",
    "                    if phase == 'train':\n",
    "                        loss.backward()\n",
    "                        optimizer.step()\n",
    "\n",
    "                # statistics\n",
    "                running_loss += loss.item() * inputs.size(0)\n",
    "                running_corrects += torch.sum(preds == labels.data)\n",
    "            if phase == 'train':\n",
    "                scheduler.step()\n",
    "\n",
    "            epoch_loss = running_loss / dataset_sizes_3[phase]\n",
    "            epoch_acc = running_corrects.double() / dataset_sizes_3[phase]\n",
    "\n",
    "            print('{} Loss: {:.4f} Acc: {:.4f}'.format(\n",
    "                phase, epoch_loss, epoch_acc))\n",
    "\n",
    "            # deep copy the model\n",
    "            if phase == 'val' and epoch_acc > best_acc:\n",
    "                best_acc = epoch_acc\n",
    "                best_model_wts = copy.deepcopy(model.state_dict())\n",
    "            if phase == 'val':\n",
    "                valid_loss.append(epoch_loss)\n",
    "                valid_acc.append(epoch_acc)\n",
    "            if phase == 'train':\n",
    "                train_loss.append(epoch_loss)\n",
    "                train_acc.append(epoch_acc)\n",
    "\n",
    "        print()\n",
    "\n",
    "    time_elapsed = time.time() - since\n",
    "    print('Training complete in {:.0f}m {:.0f}s'.format(\n",
    "        time_elapsed // 60, time_elapsed % 60))\n",
    "    print('Best val Acc: {:4f}'.format(best_acc))\n",
    "\n",
    "    # load best model weights\n",
    "    model.load_state_dict(best_model_wts)\n",
    "    return model, train_acc, train_loss, valid_acc, valid_loss"
   ]
  },
  {
   "cell_type": "code",
   "execution_count": 156,
   "metadata": {},
   "outputs": [
    {
     "name": "stdout",
     "output_type": "stream",
     "text": [
      "Epoch 0/29\n",
      "----------\n",
      "train Loss: 0.5051 Acc: 0.8683\n",
      "val Loss: 0.3938 Acc: 0.8824\n",
      "\n",
      "Epoch 1/29\n",
      "----------\n",
      "train Loss: 0.4233 Acc: 0.8846\n",
      "val Loss: 0.3300 Acc: 0.8834\n",
      "\n",
      "Epoch 2/29\n",
      "----------\n",
      "train Loss: 0.3633 Acc: 0.8912\n",
      "val Loss: 0.2736 Acc: 0.8897\n",
      "\n",
      "Epoch 3/29\n",
      "----------\n",
      "train Loss: 0.3146 Acc: 0.8952\n",
      "val Loss: 0.2519 Acc: 0.9034\n",
      "\n",
      "Epoch 4/29\n",
      "----------\n",
      "train Loss: 0.2856 Acc: 0.9014\n",
      "val Loss: 0.2213 Acc: 0.9076\n",
      "\n",
      "Epoch 5/29\n",
      "----------\n",
      "train Loss: 0.2707 Acc: 0.8996\n",
      "val Loss: 0.2093 Acc: 0.9065\n",
      "\n",
      "Epoch 6/29\n",
      "----------\n",
      "train Loss: 0.2606 Acc: 0.9019\n",
      "val Loss: 0.2065 Acc: 0.9065\n",
      "\n",
      "Epoch 7/29\n",
      "----------\n",
      "train Loss: 0.2597 Acc: 0.9023\n",
      "val Loss: 0.2059 Acc: 0.9118\n",
      "\n",
      "Epoch 8/29\n",
      "----------\n",
      "train Loss: 0.2512 Acc: 0.9036\n",
      "val Loss: 0.2026 Acc: 0.9097\n",
      "\n",
      "Epoch 9/29\n",
      "----------\n",
      "train Loss: 0.2469 Acc: 0.9050\n",
      "val Loss: 0.2007 Acc: 0.9118\n",
      "\n",
      "Epoch 10/29\n",
      "----------\n",
      "train Loss: 0.2520 Acc: 0.9107\n",
      "val Loss: 0.2006 Acc: 0.9118\n",
      "\n",
      "Epoch 11/29\n",
      "----------\n",
      "train Loss: 0.2574 Acc: 0.9041\n",
      "val Loss: 0.2005 Acc: 0.9118\n",
      "\n",
      "Epoch 12/29\n",
      "----------\n",
      "train Loss: 0.2423 Acc: 0.9116\n",
      "val Loss: 0.2004 Acc: 0.9107\n",
      "\n",
      "Epoch 13/29\n",
      "----------\n",
      "train Loss: 0.2485 Acc: 0.9072\n",
      "val Loss: 0.2002 Acc: 0.9118\n",
      "\n",
      "Epoch 14/29\n",
      "----------\n",
      "train Loss: 0.2414 Acc: 0.9063\n",
      "val Loss: 0.2001 Acc: 0.9118\n",
      "\n",
      "Epoch 15/29\n",
      "----------\n",
      "train Loss: 0.2519 Acc: 0.9067\n",
      "val Loss: 0.2001 Acc: 0.9118\n",
      "\n",
      "Epoch 16/29\n",
      "----------\n",
      "train Loss: 0.2464 Acc: 0.9041\n",
      "val Loss: 0.2000 Acc: 0.9118\n",
      "\n",
      "Epoch 17/29\n",
      "----------\n",
      "train Loss: 0.2480 Acc: 0.9063\n",
      "val Loss: 0.2000 Acc: 0.9118\n",
      "\n",
      "Epoch 18/29\n",
      "----------\n",
      "train Loss: 0.2489 Acc: 0.9080\n",
      "val Loss: 0.2000 Acc: 0.9118\n",
      "\n",
      "Epoch 19/29\n",
      "----------\n",
      "train Loss: 0.2530 Acc: 0.9054\n",
      "val Loss: 0.2000 Acc: 0.9118\n",
      "\n",
      "Epoch 20/29\n",
      "----------\n",
      "train Loss: 0.2518 Acc: 0.9058\n",
      "val Loss: 0.2000 Acc: 0.9118\n",
      "\n",
      "Epoch 21/29\n",
      "----------\n",
      "train Loss: 0.2560 Acc: 0.9054\n",
      "val Loss: 0.2000 Acc: 0.9118\n",
      "\n",
      "Epoch 22/29\n",
      "----------\n",
      "train Loss: 0.2484 Acc: 0.9085\n",
      "val Loss: 0.2000 Acc: 0.9118\n",
      "\n",
      "Epoch 23/29\n",
      "----------\n",
      "train Loss: 0.2553 Acc: 0.9032\n",
      "val Loss: 0.2000 Acc: 0.9118\n",
      "\n",
      "Epoch 24/29\n",
      "----------\n",
      "train Loss: 0.2464 Acc: 0.9045\n",
      "val Loss: 0.2000 Acc: 0.9118\n",
      "\n",
      "Epoch 25/29\n",
      "----------\n",
      "train Loss: 0.2466 Acc: 0.9067\n",
      "val Loss: 0.2000 Acc: 0.9118\n",
      "\n",
      "Epoch 26/29\n",
      "----------\n",
      "train Loss: 0.2486 Acc: 0.9067\n",
      "val Loss: 0.2000 Acc: 0.9118\n",
      "\n",
      "Epoch 27/29\n",
      "----------\n",
      "train Loss: 0.2494 Acc: 0.9076\n",
      "val Loss: 0.2000 Acc: 0.9118\n",
      "\n",
      "Epoch 28/29\n",
      "----------\n",
      "train Loss: 0.2497 Acc: 0.9054\n",
      "val Loss: 0.2000 Acc: 0.9118\n",
      "\n",
      "Epoch 29/29\n",
      "----------\n",
      "train Loss: 0.2610 Acc: 0.9058\n",
      "val Loss: 0.2000 Acc: 0.9118\n",
      "\n",
      "Training complete in 0m 21s\n",
      "Best val Acc: 0.911765\n"
     ]
    }
   ],
   "source": [
    "criterion = nn.CrossEntropyLoss()\n",
    "device = torch.device(\"cuda:0\" if torch.cuda.is_available() else \"cpu\")\n",
    "# Observe that all parameters are being optimized\n",
    "optimizer = optim.SGD(fnn.parameters(), lr=0.0001, momentum=0.9)\n",
    "\n",
    "# Decay LR by a factor of 0.1 every 7 epochs\n",
    "exp_lr_scheduler = lr_scheduler.StepLR(optimizer, step_size=5, gamma=0.1)\n",
    "fnn, train_acc, train_loss, valid_acc, valid_loss = train_model(fnn,\n",
    "                                        criterion, optimizer,exp_lr_scheduler, num_epochs=30)"
   ]
  },
  {
   "cell_type": "code",
   "execution_count": 157,
   "metadata": {},
   "outputs": [
    {
     "name": "stdout",
     "output_type": "stream",
     "text": [
      "952\n",
      "952\n"
     ]
    }
   ],
   "source": [
    "predicted = []\n",
    "labels = []\n",
    "for data, label in dataloaders_3[\"val\"]:\n",
    "    outputs = fnn(data)\n",
    "    _, preds = torch.max(outputs, 1)\n",
    "    labels.extend(label.tolist())\n",
    "    predicted.extend(preds.tolist())\n",
    "print(len(predicted))\n",
    "print(len(labels))"
   ]
  },
  {
   "cell_type": "code",
   "execution_count": 158,
   "metadata": {},
   "outputs": [
    {
     "data": {
      "image/png": "[encoded data removed]",
      "text/plain": [
       "<Figure size 432x288 with 1 Axes>"
      ]
     },
     "metadata": {
      "needs_background": "light"
     },
     "output_type": "display_data"
    }
   ],
   "source": [
    "plt.plot(train_acc, label='Training accuarcy')\n",
    "plt.plot(valid_acc, label='Validation accuarcy')\n",
    "plt.legend(frameon=False)\n",
    "plt.show()"
   ]
  },
  {
   "cell_type": "code",
   "execution_count": 159,
   "metadata": {},
   "outputs": [
    {
     "name": "stdout",
     "output_type": "stream",
     "text": [
      "              precision    recall  f1-score   support\n",
      "\n",
      "    COVID-19       0.71      0.42      0.53       112\n",
      "non-COVID-19       0.93      0.98      0.95       840\n",
      "\n",
      "    accuracy                           0.91       952\n",
      "   macro avg       0.82      0.70      0.74       952\n",
      "weighted avg       0.90      0.91      0.90       952\n",
      "\n"
     ]
    }
   ],
   "source": [
    "from sklearn.metrics import classification_report, confusion_matrix\n",
    "import pandas as pd\n",
    "import seaborn as sns\n",
    "print(classification_report(labels, predicted, target_names=class_names_2))\n",
    "cmf = confusion_matrix(labels,predicted,normalize=\"true\")\n",
    "cmf = pd.DataFrame(cmf, \n",
    "  index = class_names_2,\n",
    "  columns = class_names_2)"
   ]
  },
  {
   "cell_type": "code",
   "execution_count": 160,
   "metadata": {},
   "outputs": [
    {
     "data": {
      "text/plain": [
       "<matplotlib.axes._subplots.AxesSubplot at 0x7feaf9569c88>"
      ]
     },
     "execution_count": 160,
     "metadata": {},
     "output_type": "execute_result"
    },
    {
     "data": {
      "image/png": "[encoded data removed]",
      "text/plain": [
       "<Figure size 432x288 with 2 Axes>"
      ]
     },
     "metadata": {
      "needs_background": "light"
     },
     "output_type": "display_data"
    }
   ],
   "source": [
    "sns.heatmap(cmf, cmap='Blues',annot=True)"
   ]
  },
  {
   "cell_type": "markdown",
   "metadata": {},
   "source": [
    "## combine the two models (CNN+SVM)"
   ]
  },
  {
   "cell_type": "code",
   "execution_count": 169,
   "metadata": {},
   "outputs": [],
   "source": [
    "data_dir = 'Data_val/'\n",
    "image_datasets_val = datasets.ImageFolder(data_dir,data_transforms[\"val\"])\n",
    "dataloaders_val = torch.utils.data.DataLoader(image_datasets_val, batch_size=1,shuffle=True, num_workers=4)\n"
   ]
  },
  {
   "cell_type": "code",
   "execution_count": 170,
   "metadata": {},
   "outputs": [
    {
     "data": {
      "text/plain": [
       "['COVID-19', 'Normal', 'non-COVID-19']"
      ]
     },
     "execution_count": 170,
     "metadata": {},
     "output_type": "execute_result"
    }
   ],
   "source": [
    "val_classes = image_datasets_val.classes\n",
    "val_classes"
   ]
  },
  {
   "cell_type": "markdown",
   "metadata": {},
   "source": [
    "## explain evry single step for one image example "
   ]
  },
  {
   "cell_type": "code",
   "execution_count": 171,
   "metadata": {},
   "outputs": [],
   "source": [
    "image,label = next(iter(dataloaders_val))"
   ]
  },
  {
   "cell_type": "code",
   "execution_count": 184,
   "metadata": {},
   "outputs": [],
   "source": [
    "outputs = resnet(image)\n",
    "image_feature_vector = get_vector_from_batch(image,resnet)\n",
    "_, preds = torch.max(outputs, 1)"
   ]
  },
  {
   "cell_type": "code",
   "execution_count": 185,
   "metadata": {},
   "outputs": [
    {
     "data": {
      "text/plain": [
       "'pneumonie'"
      ]
     },
     "execution_count": 185,
     "metadata": {},
     "output_type": "execute_result"
    }
   ],
   "source": [
    "class_names_1[preds.item()]"
   ]
  },
  {
   "cell_type": "code",
   "execution_count": 188,
   "metadata": {},
   "outputs": [],
   "source": [
    "image_feature_vector = pd.DataFrame(image_feature_vector.numpy())"
   ]
  },
  {
   "cell_type": "code",
   "execution_count": 187,
   "metadata": {},
   "outputs": [
    {
     "data": {
      "text/plain": [
       "pandas.core.frame.DataFrame"
      ]
     },
     "execution_count": 187,
     "metadata": {},
     "output_type": "execute_result"
    }
   ],
   "source": [
    "type(X_val)"
   ]
  },
  {
   "cell_type": "code",
   "execution_count": 189,
   "metadata": {},
   "outputs": [
    {
     "data": {
      "text/plain": [
       "pandas.core.frame.DataFrame"
      ]
     },
     "execution_count": 189,
     "metadata": {},
     "output_type": "execute_result"
    }
   ],
   "source": [
    "type(image_feature_vector)"
   ]
  },
  {
   "cell_type": "code",
   "execution_count": 191,
   "metadata": {},
   "outputs": [
    {
     "data": {
      "text/plain": [
       "(1, 512)"
      ]
     },
     "execution_count": 191,
     "metadata": {},
     "output_type": "execute_result"
    }
   ],
   "source": [
    "image_feature_vector.shape"
   ]
  },
  {
   "cell_type": "code",
   "execution_count": 196,
   "metadata": {},
   "outputs": [
    {
     "data": {
      "text/plain": [
       "'non-COVID-19'"
      ]
     },
     "execution_count": 196,
     "metadata": {},
     "output_type": "execute_result"
    }
   ],
   "source": [
    "class_names_2 [int(clf.predict(image_feature_vector)[0])]"
   ]
  },
  {
   "cell_type": "code",
   "execution_count": 199,
   "metadata": {},
   "outputs": [
    {
     "data": {
      "text/plain": [
       "'non-COVID-19'"
      ]
     },
     "execution_count": 199,
     "metadata": {},
     "output_type": "execute_result"
    }
   ],
   "source": [
    "val_classes[label.item()]"
   ]
  },
  {
   "cell_type": "markdown",
   "metadata": {},
   "source": [
    "## for all the validation data"
   ]
  },
  {
   "cell_type": "code",
   "execution_count": 200,
   "metadata": {},
   "outputs": [],
   "source": [
    "predicted = []\n",
    "labels = []\n",
    "for image,label in dataloaders_val:\n",
    "    outputs = resnet(image)\n",
    "    image_feature_vector = get_vector_from_batch(image,resnet)\n",
    "    _, preds = torch.max(outputs, 1)\n",
    "    if class_names_1[preds.item()] == 'pneumonie':\n",
    "        image_feature_vector = pd.DataFrame(image_feature_vector.numpy())\n",
    "        if class_names_2 [int(clf.predict(image_feature_vector)[0])] == 'non-COVID-19':\n",
    "            predicted.append(2)\n",
    "        else:\n",
    "            predicted.append(0)\n",
    "    \n",
    "    else:\n",
    "        predicted.append(1)\n",
    "    labels.append(label.item())"
   ]
  },
  {
   "cell_type": "code",
   "execution_count": 201,
   "metadata": {},
   "outputs": [
    {
     "name": "stdout",
     "output_type": "stream",
     "text": [
      "1431\n",
      "1431\n"
     ]
    }
   ],
   "source": [
    "print(len(predicted))\n",
    "print(len(labels))"
   ]
  },
  {
   "cell_type": "code",
   "execution_count": 203,
   "metadata": {},
   "outputs": [
    {
     "name": "stdout",
     "output_type": "stream",
     "text": [
      "              precision    recall  f1-score   support\n",
      "\n",
      "    COVID-19       0.75      0.79      0.77       112\n",
      "      Normal       0.95      0.96      0.96       479\n",
      "non-COVID-19       0.95      0.94      0.95       840\n",
      "\n",
      "    accuracy                           0.94      1431\n",
      "   macro avg       0.89      0.90      0.89      1431\n",
      "weighted avg       0.94      0.94      0.94      1431\n",
      "\n"
     ]
    }
   ],
   "source": [
    "from sklearn.metrics import classification_report, confusion_matrix\n",
    "import pandas as pd\n",
    "import seaborn as sns\n",
    "print(classification_report(labels, predicted, target_names=val_classes))\n",
    "cmf = confusion_matrix(labels,predicted,normalize=\"true\")\n",
    "cmf = pd.DataFrame(cmf, \n",
    "  index = val_classes,\n",
    "  columns = val_classes)"
   ]
  },
  {
   "cell_type": "code",
   "execution_count": 204,
   "metadata": {},
   "outputs": [
    {
     "data": {
      "text/plain": [
       "<matplotlib.axes._subplots.AxesSubplot at 0x7feaf087b2e8>"
      ]
     },
     "execution_count": 204,
     "metadata": {},
     "output_type": "execute_result"
    },
    {
     "data": {
      "image/png": "[encoded data removed]",
      "text/plain": [
       "<Figure size 432x288 with 2 Axes>"
      ]
     },
     "metadata": {
      "needs_background": "light"
     },
     "output_type": "display_data"
    }
   ],
   "source": [
    "sns.heatmap(cmf, cmap='Blues',annot=True)"
   ]
  },
  {
   "cell_type": "markdown",
   "metadata": {},
   "source": [
    "## save the 2 models to replicate the results"
   ]
  },
  {
   "cell_type": "code",
   "execution_count": 206,
   "metadata": {},
   "outputs": [
    {
     "data": {
      "text/plain": [
       "['SVM_covid_noncovid.joblib']"
      ]
     },
     "execution_count": 206,
     "metadata": {},
     "output_type": "execute_result"
    }
   ],
   "source": [
    "from joblib import dump, load\n",
    "dump(clf, 'SVM_covid_noncovid.joblib') "
   ]
  },
  {
   "cell_type": "code",
   "execution_count": 207,
   "metadata": {},
   "outputs": [],
   "source": [
    "torch.save(resnet,\"resnet_normal_pneumonie\")"
   ]
  },
  {
   "cell_type": "code",
   "execution_count": null,
   "metadata": {},
   "outputs": [],
   "source": []
  }
 ],
 "metadata": {
  "kernelspec": {
   "display_name": "Python 3",
   "language": "python",
   "name": "python3"
  },
  "language_info": {
   "codemirror_mode": {
    "name": "ipython",
    "version": 3
   },
   "file_extension": ".py",
   "mimetype": "text/x-python",
   "name": "python",
   "nbconvert_exporter": "python",
   "pygments_lexer": "ipython3",
   "version": "3.6.9"
  }
 },
 "nbformat": 4,
 "nbformat_minor": 4
}
