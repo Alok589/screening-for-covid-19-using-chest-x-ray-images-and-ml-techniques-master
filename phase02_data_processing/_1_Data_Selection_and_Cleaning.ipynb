{
 "cells": [
  {
   "cell_type": "markdown",
   "metadata": {},
   "source": [
    "# Import libraries"
   ]
  },
  {
   "cell_type": "code",
   "execution_count": 1,
   "metadata": {
    "ExecuteTime": {
     "end_time": "2020-06-20T12:04:57.147241Z",
     "start_time": "2020-06-20T12:04:54.430875Z"
    }
   },
   "outputs": [],
   "source": [
    "%matplotlib inline\n",
    "from PIL import Image\n",
    "from os import listdir\n",
    "from skimage import data, img_as_float\n",
    "from skimage import exposure\n",
    "from skimage.filters import gaussian\n",
    "from skimage.transform import rotate, AffineTransform, warp\n",
    "from skimage.util import random_noise\n",
    "from sklearn.metrics import classification_report, confusion_matrix\n",
    "from torch.autograd import Variable\n",
    "from torch.utils.data import Dataset, DataLoader, SubsetRandomSampler\n",
    "from torchvision import transforms, utils, datasets\n",
    "from tqdm.notebook import tqdm\n",
    "import matplotlib\n",
    "import matplotlib.image as mpimg\n",
    "import matplotlib.pyplot as plt\n",
    "import numpy as np\n",
    "import pandas as pd\n",
    "import random\n",
    "import seaborn as sns\n",
    "import skimage.io as io\n",
    "import torch\n",
    "import torch.nn as nn\n",
    "import torch.nn.functional\n",
    "import torch.nn.functional as F\n",
    "import torch.optim as optim\n",
    "import torchvision\n",
    "import warnings\n",
    "warnings.filterwarnings('ignore')"
   ]
  },
  {
   "cell_type": "markdown",
   "metadata": {},
   "source": [
    "# UDF"
   ]
  },
  {
   "cell_type": "code",
   "execution_count": 2,
   "metadata": {
    "ExecuteTime": {
     "end_time": "2020-06-20T12:04:57.151116Z",
     "start_time": "2020-06-20T12:04:57.148158Z"
    }
   },
   "outputs": [],
   "source": [
    "def Unique_values_from_Column (df, ColumnName):\n",
    "    return df[ColumnName].unique().tolist();"
   ]
  },
  {
   "cell_type": "code",
   "execution_count": 3,
   "metadata": {
    "ExecuteTime": {
     "end_time": "2020-06-20T12:04:57.158121Z",
     "start_time": "2020-06-20T12:04:57.152113Z"
    }
   },
   "outputs": [],
   "source": [
    "def remove_files_from_folder(directoryPath, filesEndWith):\n",
    "    import glob, os, os.path\n",
    "    filelist = glob.glob(os.path.join(directoryPath, filesEndWith))\n",
    "    for f in filelist:\n",
    "        os.remove(f)"
   ]
  },
  {
   "cell_type": "code",
   "execution_count": 4,
   "metadata": {
    "ExecuteTime": {
     "end_time": "2020-06-20T12:04:57.164082Z",
     "start_time": "2020-06-20T12:04:57.159096Z"
    }
   },
   "outputs": [],
   "source": [
    "def Remove_duplicated_images(df):\n",
    "    from pathlib import Path\n",
    "    df['Duplicted'] = df['ImagePath'].apply(lambda x : not Path(x).is_file())\n",
    "    df=df.loc[df['Duplicted'] == False]\n",
    "    return df"
   ]
  },
  {
   "cell_type": "code",
   "execution_count": 5,
   "metadata": {
    "ExecuteTime": {
     "end_time": "2020-06-20T12:04:57.169120Z",
     "start_time": "2020-06-20T12:04:57.165078Z"
    }
   },
   "outputs": [],
   "source": [
    "def create_directory (Path):\n",
    "    import os\n",
    "    if not os.path.exists(Path):\n",
    "        os.makedirs(Path)\n",
    "        return True;\n",
    "    else: \n",
    "        return False;"
   ]
  },
  {
   "cell_type": "markdown",
   "metadata": {},
   "source": [
    "# Data Selection & Cleaning"
   ]
  },
  {
   "cell_type": "markdown",
   "metadata": {},
   "source": [
    "## Data1"
   ]
  },
  {
   "cell_type": "markdown",
   "metadata": {},
   "source": [
    "### Loading data"
   ]
  },
  {
   "cell_type": "code",
   "execution_count": 6,
   "metadata": {
    "ExecuteTime": {
     "end_time": "2020-06-20T12:04:57.192057Z",
     "start_time": "2020-06-20T12:04:57.170092Z"
    }
   },
   "outputs": [],
   "source": [
    "CsvPath='Chest_xray_Corona_Metadata.csv'\n",
    "df1 = pd.read_csv(CsvPath)"
   ]
  },
  {
   "cell_type": "markdown",
   "metadata": {},
   "source": [
    "Add a column which describes the type of Pneumonia (Non-Covid19, Covid-19).\n",
    "\n",
    "Add a column contains the path of the image from source folder."
   ]
  },
  {
   "cell_type": "code",
   "execution_count": 7,
   "metadata": {
    "ExecuteTime": {
     "end_time": "2020-06-20T12:04:57.204001Z",
     "start_time": "2020-06-20T12:04:57.193040Z"
    }
   },
   "outputs": [],
   "source": [
    "df1['Label_2'] = df1['Label_2_Virus_category']\n",
    "df1['ImagePath'] = \"Coronahack-Chest-XRay-Dataset/Coronahack-Chest-XRay-Dataset/\"+ df1['Dataset_type']+\"/\"+df1['X_ray_image_name']"
   ]
  },
  {
   "cell_type": "markdown",
   "metadata": {},
   "source": [
    "Classify Streptococcus, ARDS and SARS as Pneumonia diseases different from COVID-19."
   ]
  },
  {
   "cell_type": "code",
   "execution_count": 8,
   "metadata": {
    "ExecuteTime": {
     "end_time": "2020-06-20T12:04:57.223026Z",
     "start_time": "2020-06-20T12:04:57.205996Z"
    }
   },
   "outputs": [],
   "source": [
    "for label in Unique_values_from_Column (df1, 'Label_2'):\n",
    "    if label in ['Streptococcus','ARDS','SARS' ]:\n",
    "        df1.loc[df1.Label_2 == label, 'Label_2'] = \"non-COVID-19\"\n",
    "df1.loc[df1['X_ray_image_name'].str.contains(\"bacteria\"), 'Label_2'] = \"non-COVID-19\""
   ]
  },
  {
   "cell_type": "markdown",
   "metadata": {
    "ExecuteTime": {
     "end_time": "2020-06-02T21:28:28.904225Z",
     "start_time": "2020-06-02T21:28:28.901233Z"
    }
   },
   "source": [
    "### Data selection"
   ]
  },
  {
   "cell_type": "code",
   "execution_count": 9,
   "metadata": {
    "ExecuteTime": {
     "end_time": "2020-06-20T12:04:57.231900Z",
     "start_time": "2020-06-20T12:04:57.223923Z"
    }
   },
   "outputs": [
    {
     "data": {
      "text/plain": [
       "5910"
      ]
     },
     "execution_count": 9,
     "metadata": {},
     "output_type": "execute_result"
    }
   ],
   "source": [
    "df1=df1[[\"ImagePath\", \"Label\",\"Label_2\", \"Label_2_Virus_category\",\"X_ray_image_name\"]]\n",
    "len(df1)"
   ]
  },
  {
   "cell_type": "markdown",
   "metadata": {},
   "source": [
    "### Remove Duplicated data"
   ]
  },
  {
   "cell_type": "code",
   "execution_count": 10,
   "metadata": {
    "ExecuteTime": {
     "end_time": "2020-06-20T12:04:58.428653Z",
     "start_time": "2020-06-20T12:04:57.232922Z"
    }
   },
   "outputs": [
    {
     "data": {
      "text/plain": [
       "5876"
      ]
     },
     "execution_count": 10,
     "metadata": {},
     "output_type": "execute_result"
    }
   ],
   "source": [
    "df1=Remove_duplicated_images(df1)\n",
    "len(df1)"
   ]
  },
  {
   "cell_type": "markdown",
   "metadata": {},
   "source": [
    "### Save data in CSV file"
   ]
  },
  {
   "cell_type": "code",
   "execution_count": 11,
   "metadata": {
    "ExecuteTime": {
     "end_time": "2020-06-20T12:04:58.458573Z",
     "start_time": "2020-06-20T12:04:58.429649Z"
    }
   },
   "outputs": [],
   "source": [
    "df1.to_csv('data1.csv')"
   ]
  },
  {
   "cell_type": "markdown",
   "metadata": {
    "ExecuteTime": {
     "end_time": "2020-05-31T10:18:30.564763Z",
     "start_time": "2020-05-31T10:18:30.558774Z"
    }
   },
   "source": [
    "## Data 2"
   ]
  },
  {
   "cell_type": "markdown",
   "metadata": {},
   "source": [
    "### Loading Data"
   ]
  },
  {
   "cell_type": "code",
   "execution_count": 12,
   "metadata": {
    "ExecuteTime": {
     "end_time": "2020-06-20T12:04:58.481562Z",
     "start_time": "2020-06-20T12:04:58.459569Z"
    }
   },
   "outputs": [],
   "source": [
    "CsvPath2='covid-chestxray-dataset-master/covid-chestxray-dataset-master/metadata.csv'\n",
    "df2 = pd.read_csv(CsvPath2)"
   ]
  },
  {
   "cell_type": "markdown",
   "metadata": {},
   "source": [
    "Add some columns to not change basic data but to add new information."
   ]
  },
  {
   "cell_type": "code",
   "execution_count": 13,
   "metadata": {
    "ExecuteTime": {
     "end_time": "2020-06-20T12:04:58.517414Z",
     "start_time": "2020-06-20T12:04:58.482508Z"
    }
   },
   "outputs": [],
   "source": [
    "df2['Label_2'] = df2['finding']\n",
    "df2['X_ray_image_name'] = df2['filename']\n",
    "df2['Label_2_Virus_category']= df2['finding']\n",
    "df2['ImagePath'] = \"covid-chestxray-dataset-master/covid-chestxray-dataset-master/images/\"+ df2['filename']\n",
    "df2=df2[(df2['finding']!='No Finding') & (df2['finding']!='COVID-19, ARDS') & (df2['finding']!='todo')& (df2['folder']=='images')]\n",
    "df2['Label'] = \"Pnemonia\"\n",
    "for label in Unique_values_from_Column (df2, 'Label_2'):\n",
    "    if label != 'COVID-19':\n",
    "        df2.loc[df2.Label_2 == label, 'Label_2'] = \"non-COVID-19\"\n",
    "df2.loc[df2['X_ray_image_name'].str.contains(\"bacteria\"), 'Label_2'] = \"non-COVID-19\""
   ]
  },
  {
   "cell_type": "markdown",
   "metadata": {},
   "source": [
    "### Data Selection"
   ]
  },
  {
   "cell_type": "code",
   "execution_count": 14,
   "metadata": {
    "ExecuteTime": {
     "end_time": "2020-06-20T12:04:58.523398Z",
     "start_time": "2020-06-20T12:04:58.518412Z"
    }
   },
   "outputs": [],
   "source": [
    "df2=df2[[\"ImagePath\", \"Label\", \"Label_2\", \"Label_2_Virus_category\",\"X_ray_image_name\"]]"
   ]
  },
  {
   "cell_type": "markdown",
   "metadata": {
    "ExecuteTime": {
     "end_time": "2020-06-02T21:32:10.280907Z",
     "start_time": "2020-06-02T21:32:10.277903Z"
    }
   },
   "source": [
    "### Remove Duplicated Data"
   ]
  },
  {
   "cell_type": "code",
   "execution_count": 15,
   "metadata": {
    "ExecuteTime": {
     "end_time": "2020-06-20T12:04:58.529382Z",
     "start_time": "2020-06-20T12:04:58.524398Z"
    }
   },
   "outputs": [
    {
     "data": {
      "text/plain": [
       "488"
      ]
     },
     "execution_count": 15,
     "metadata": {},
     "output_type": "execute_result"
    }
   ],
   "source": [
    "len(df2)"
   ]
  },
  {
   "cell_type": "code",
   "execution_count": 16,
   "metadata": {
    "ExecuteTime": {
     "end_time": "2020-06-20T12:04:58.615152Z",
     "start_time": "2020-06-20T12:04:58.530380Z"
    }
   },
   "outputs": [
    {
     "data": {
      "text/plain": [
       "395"
      ]
     },
     "execution_count": 16,
     "metadata": {},
     "output_type": "execute_result"
    }
   ],
   "source": [
    "df2=Remove_duplicated_images(df2)\n",
    "len(df2)"
   ]
  },
  {
   "cell_type": "markdown",
   "metadata": {},
   "source": [
    "### Save data in CSV file"
   ]
  },
  {
   "cell_type": "code",
   "execution_count": 17,
   "metadata": {
    "ExecuteTime": {
     "end_time": "2020-06-20T12:04:58.622134Z",
     "start_time": "2020-06-20T12:04:58.616150Z"
    }
   },
   "outputs": [],
   "source": [
    "df2.to_csv('data2.csv')"
   ]
  },
  {
   "cell_type": "markdown",
   "metadata": {},
   "source": [
    "## Merge 2 datasets"
   ]
  },
  {
   "cell_type": "code",
   "execution_count": 18,
   "metadata": {
    "ExecuteTime": {
     "end_time": "2020-06-20T12:04:58.628118Z",
     "start_time": "2020-06-20T12:04:58.623132Z"
    }
   },
   "outputs": [],
   "source": [
    "df = df1.append(df2, ignore_index=True, sort=False)"
   ]
  },
  {
   "cell_type": "markdown",
   "metadata": {},
   "source": [
    "### Remove Duplicated Data"
   ]
  },
  {
   "cell_type": "code",
   "execution_count": 19,
   "metadata": {
    "ExecuteTime": {
     "end_time": "2020-06-20T12:04:58.635099Z",
     "start_time": "2020-06-20T12:04:58.629116Z"
    }
   },
   "outputs": [
    {
     "data": {
      "text/plain": [
       "6271"
      ]
     },
     "execution_count": 19,
     "metadata": {},
     "output_type": "execute_result"
    }
   ],
   "source": [
    "len(df)"
   ]
  },
  {
   "cell_type": "markdown",
   "metadata": {},
   "source": [
    "No duplicated data since we have already removed them from first and second data."
   ]
  },
  {
   "cell_type": "code",
   "execution_count": 20,
   "metadata": {
    "ExecuteTime": {
     "end_time": "2020-06-20T12:04:58.886430Z",
     "start_time": "2020-06-20T12:04:58.636097Z"
    }
   },
   "outputs": [
    {
     "data": {
      "text/plain": [
       "6271"
      ]
     },
     "execution_count": 20,
     "metadata": {},
     "output_type": "execute_result"
    }
   ],
   "source": [
    "df=Remove_duplicated_images(df)\n",
    "len(df)"
   ]
  },
  {
   "cell_type": "markdown",
   "metadata": {},
   "source": [
    "### Replace NULL Values"
   ]
  },
  {
   "cell_type": "code",
   "execution_count": 21,
   "metadata": {
    "ExecuteTime": {
     "end_time": "2020-06-20T12:04:58.892412Z",
     "start_time": "2020-06-20T12:04:58.887425Z"
    }
   },
   "outputs": [],
   "source": [
    "df=df.fillna(\"\")"
   ]
  },
  {
   "cell_type": "markdown",
   "metadata": {
    "ExecuteTime": {
     "end_time": "2020-06-02T21:41:12.925458Z",
     "start_time": "2020-06-02T21:41:12.921468Z"
    }
   },
   "source": [
    "### Visualize columns' possible values"
   ]
  },
  {
   "cell_type": "code",
   "execution_count": 22,
   "metadata": {
    "ExecuteTime": {
     "end_time": "2020-06-20T12:04:58.911490Z",
     "start_time": "2020-06-20T12:04:58.893409Z"
    }
   },
   "outputs": [
    {
     "data": {
      "text/html": [
       "<div>\n",
       "<style scoped>\n",
       "    .dataframe tbody tr th:only-of-type {\n",
       "        vertical-align: middle;\n",
       "    }\n",
       "\n",
       "    .dataframe tbody tr th {\n",
       "        vertical-align: top;\n",
       "    }\n",
       "\n",
       "    .dataframe thead th {\n",
       "        text-align: right;\n",
       "    }\n",
       "</style>\n",
       "<table border=\"1\" class=\"dataframe\">\n",
       "  <thead>\n",
       "    <tr style=\"text-align: right;\">\n",
       "      <th></th>\n",
       "      <th>ImagePath</th>\n",
       "      <th>Label</th>\n",
       "      <th>Label_2</th>\n",
       "      <th>Label_2_Virus_category</th>\n",
       "      <th>X_ray_image_name</th>\n",
       "      <th>Duplicted</th>\n",
       "    </tr>\n",
       "  </thead>\n",
       "  <tbody>\n",
       "    <tr>\n",
       "      <th>0</th>\n",
       "      <td>Coronahack-Chest-XRay-Dataset/Coronahack-Chest...</td>\n",
       "      <td>Normal</td>\n",
       "      <td></td>\n",
       "      <td></td>\n",
       "      <td>IM-0128-0001.jpeg</td>\n",
       "      <td>False</td>\n",
       "    </tr>\n",
       "    <tr>\n",
       "      <th>1</th>\n",
       "      <td>Coronahack-Chest-XRay-Dataset/Coronahack-Chest...</td>\n",
       "      <td>Normal</td>\n",
       "      <td></td>\n",
       "      <td></td>\n",
       "      <td>IM-0127-0001.jpeg</td>\n",
       "      <td>False</td>\n",
       "    </tr>\n",
       "    <tr>\n",
       "      <th>2</th>\n",
       "      <td>Coronahack-Chest-XRay-Dataset/Coronahack-Chest...</td>\n",
       "      <td>Normal</td>\n",
       "      <td></td>\n",
       "      <td></td>\n",
       "      <td>IM-0125-0001.jpeg</td>\n",
       "      <td>False</td>\n",
       "    </tr>\n",
       "    <tr>\n",
       "      <th>3</th>\n",
       "      <td>Coronahack-Chest-XRay-Dataset/Coronahack-Chest...</td>\n",
       "      <td>Normal</td>\n",
       "      <td></td>\n",
       "      <td></td>\n",
       "      <td>IM-0122-0001.jpeg</td>\n",
       "      <td>False</td>\n",
       "    </tr>\n",
       "    <tr>\n",
       "      <th>4</th>\n",
       "      <td>Coronahack-Chest-XRay-Dataset/Coronahack-Chest...</td>\n",
       "      <td>Normal</td>\n",
       "      <td></td>\n",
       "      <td></td>\n",
       "      <td>IM-0119-0001.jpeg</td>\n",
       "      <td>False</td>\n",
       "    </tr>\n",
       "    <tr>\n",
       "      <th>...</th>\n",
       "      <td>...</td>\n",
       "      <td>...</td>\n",
       "      <td>...</td>\n",
       "      <td>...</td>\n",
       "      <td>...</td>\n",
       "      <td>...</td>\n",
       "    </tr>\n",
       "    <tr>\n",
       "      <th>6266</th>\n",
       "      <td>covid-chestxray-dataset-master/covid-chestxray...</td>\n",
       "      <td>Pnemonia</td>\n",
       "      <td>non-COVID-19</td>\n",
       "      <td>Klebsiella</td>\n",
       "      <td>000012-3.jpg</td>\n",
       "      <td>False</td>\n",
       "    </tr>\n",
       "    <tr>\n",
       "      <th>6267</th>\n",
       "      <td>covid-chestxray-dataset-master/covid-chestxray...</td>\n",
       "      <td>Pnemonia</td>\n",
       "      <td>non-COVID-19</td>\n",
       "      <td>Influenza</td>\n",
       "      <td>000001-6.png</td>\n",
       "      <td>False</td>\n",
       "    </tr>\n",
       "    <tr>\n",
       "      <th>6268</th>\n",
       "      <td>covid-chestxray-dataset-master/covid-chestxray...</td>\n",
       "      <td>Pnemonia</td>\n",
       "      <td>non-COVID-19</td>\n",
       "      <td>Influenza</td>\n",
       "      <td>000002-7.png</td>\n",
       "      <td>False</td>\n",
       "    </tr>\n",
       "    <tr>\n",
       "      <th>6269</th>\n",
       "      <td>covid-chestxray-dataset-master/covid-chestxray...</td>\n",
       "      <td>Pnemonia</td>\n",
       "      <td>non-COVID-19</td>\n",
       "      <td>Legionella</td>\n",
       "      <td>000001-27.jpg</td>\n",
       "      <td>False</td>\n",
       "    </tr>\n",
       "    <tr>\n",
       "      <th>6270</th>\n",
       "      <td>covid-chestxray-dataset-master/covid-chestxray...</td>\n",
       "      <td>Pnemonia</td>\n",
       "      <td>non-COVID-19</td>\n",
       "      <td>Legionella</td>\n",
       "      <td>000002-29.jpg</td>\n",
       "      <td>False</td>\n",
       "    </tr>\n",
       "  </tbody>\n",
       "</table>\n",
       "<p>6271 rows × 6 columns</p>\n",
       "</div>"
      ],
      "text/plain": [
       "                                              ImagePath     Label  \\\n",
       "0     Coronahack-Chest-XRay-Dataset/Coronahack-Chest...    Normal   \n",
       "1     Coronahack-Chest-XRay-Dataset/Coronahack-Chest...    Normal   \n",
       "2     Coronahack-Chest-XRay-Dataset/Coronahack-Chest...    Normal   \n",
       "3     Coronahack-Chest-XRay-Dataset/Coronahack-Chest...    Normal   \n",
       "4     Coronahack-Chest-XRay-Dataset/Coronahack-Chest...    Normal   \n",
       "...                                                 ...       ...   \n",
       "6266  covid-chestxray-dataset-master/covid-chestxray...  Pnemonia   \n",
       "6267  covid-chestxray-dataset-master/covid-chestxray...  Pnemonia   \n",
       "6268  covid-chestxray-dataset-master/covid-chestxray...  Pnemonia   \n",
       "6269  covid-chestxray-dataset-master/covid-chestxray...  Pnemonia   \n",
       "6270  covid-chestxray-dataset-master/covid-chestxray...  Pnemonia   \n",
       "\n",
       "           Label_2 Label_2_Virus_category   X_ray_image_name  Duplicted  \n",
       "0                                          IM-0128-0001.jpeg      False  \n",
       "1                                          IM-0127-0001.jpeg      False  \n",
       "2                                          IM-0125-0001.jpeg      False  \n",
       "3                                          IM-0122-0001.jpeg      False  \n",
       "4                                          IM-0119-0001.jpeg      False  \n",
       "...            ...                    ...                ...        ...  \n",
       "6266  non-COVID-19             Klebsiella       000012-3.jpg      False  \n",
       "6267  non-COVID-19              Influenza       000001-6.png      False  \n",
       "6268  non-COVID-19              Influenza       000002-7.png      False  \n",
       "6269  non-COVID-19             Legionella      000001-27.jpg      False  \n",
       "6270  non-COVID-19             Legionella      000002-29.jpg      False  \n",
       "\n",
       "[6271 rows x 6 columns]"
      ]
     },
     "execution_count": 22,
     "metadata": {},
     "output_type": "execute_result"
    }
   ],
   "source": [
    "df"
   ]
  },
  {
   "cell_type": "code",
   "execution_count": 23,
   "metadata": {
    "ExecuteTime": {
     "end_time": "2020-06-20T12:04:58.916475Z",
     "start_time": "2020-06-20T12:04:58.913483Z"
    }
   },
   "outputs": [
    {
     "data": {
      "text/plain": [
       "['Normal', 'Pnemonia']"
      ]
     },
     "execution_count": 23,
     "metadata": {},
     "output_type": "execute_result"
    }
   ],
   "source": [
    "Unique_values_from_Column (df, 'Label')"
   ]
  },
  {
   "cell_type": "code",
   "execution_count": 24,
   "metadata": {
    "ExecuteTime": {
     "end_time": "2020-06-20T12:04:58.922433Z",
     "start_time": "2020-06-20T12:04:58.917446Z"
    }
   },
   "outputs": [
    {
     "data": {
      "text/plain": [
       "['', 'non-COVID-19', 'COVID-19']"
      ]
     },
     "execution_count": 24,
     "metadata": {},
     "output_type": "execute_result"
    }
   ],
   "source": [
    "Unique_values_from_Column (df, 'Label_2')"
   ]
  },
  {
   "cell_type": "code",
   "execution_count": 25,
   "metadata": {
    "ExecuteTime": {
     "end_time": "2020-06-20T12:04:58.929414Z",
     "start_time": "2020-06-20T12:04:58.923430Z"
    }
   },
   "outputs": [
    {
     "data": {
      "text/plain": [
       "['',\n",
       " 'Streptococcus',\n",
       " 'COVID-19',\n",
       " 'ARDS',\n",
       " 'SARS',\n",
       " 'Pneumocystis',\n",
       " 'Chlamydophila',\n",
       " 'E.Coli',\n",
       " 'Klebsiella',\n",
       " 'Legionella',\n",
       " 'Pneumonia',\n",
       " 'Varicella',\n",
       " 'Bacterial',\n",
       " 'Influenza']"
      ]
     },
     "execution_count": 25,
     "metadata": {},
     "output_type": "execute_result"
    }
   ],
   "source": [
    "Unique_values_from_Column (df, 'Label_2_Virus_category')"
   ]
  },
  {
   "cell_type": "markdown",
   "metadata": {},
   "source": [
    "### Save dataframe"
   ]
  },
  {
   "cell_type": "code",
   "execution_count": 26,
   "metadata": {
    "ExecuteTime": {
     "end_time": "2020-06-20T12:04:58.957371Z",
     "start_time": "2020-06-20T12:04:58.930411Z"
    }
   },
   "outputs": [],
   "source": [
    "create_directory (\"data\")\n",
    "df.to_csv(\"data/data.csv\")"
   ]
  }
 ],
 "metadata": {
  "kernelspec": {
   "display_name": "Python [conda env:dorra] *",
   "language": "python",
   "name": "conda-env-dorra-py"
  },
  "language_info": {
   "codemirror_mode": {
    "name": "ipython",
    "version": 3
   },
   "file_extension": ".py",
   "mimetype": "text/x-python",
   "name": "python",
   "nbconvert_exporter": "python",
   "pygments_lexer": "ipython3",
   "version": "3.6.8"
  },
  "toc": {
   "base_numbering": 1,
   "nav_menu": {},
   "number_sections": true,
   "sideBar": true,
   "skip_h1_title": false,
   "title_cell": "Table of Contents",
   "title_sidebar": "Contents",
   "toc_cell": false,
   "toc_position": {
    "height": "calc(100% - 180px)",
    "left": "10px",
    "top": "150px",
    "width": "230.688px"
   },
   "toc_section_display": true,
   "toc_window_display": true
  }
 },
 "nbformat": 4,
 "nbformat_minor": 2
}
