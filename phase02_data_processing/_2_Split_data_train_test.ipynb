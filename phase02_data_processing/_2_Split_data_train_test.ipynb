{
 "cells": [
  {
   "cell_type": "markdown",
   "metadata": {},
   "source": [
    "# Import libraries"
   ]
  },
  {
   "cell_type": "code",
   "execution_count": 1,
   "metadata": {
    "ExecuteTime": {
     "end_time": "2020-06-20T12:05:16.729823Z",
     "start_time": "2020-06-20T12:05:15.011369Z"
    }
   },
   "outputs": [],
   "source": [
    "%matplotlib inline\n",
    "from PIL import Image\n",
    "from os import listdir\n",
    "from skimage import data, img_as_float\n",
    "from skimage import exposure\n",
    "from skimage.filters import gaussian\n",
    "from skimage.transform import rotate, AffineTransform, warp\n",
    "from skimage.util import random_noise\n",
    "from sklearn.metrics import classification_report, confusion_matrix\n",
    "from torch.autograd import Variable\n",
    "from torch.utils.data import Dataset, DataLoader, SubsetRandomSampler\n",
    "from torchvision import transforms, utils, datasets\n",
    "from tqdm.notebook import tqdm\n",
    "import matplotlib\n",
    "import matplotlib.image as mpimg\n",
    "import matplotlib.pyplot as plt\n",
    "import numpy as np\n",
    "import pandas as pd\n",
    "import random\n",
    "import seaborn as sns\n",
    "import skimage.io as io\n",
    "import torch\n",
    "import torch.nn as nn\n",
    "import torch.nn.functional\n",
    "import torch.nn.functional as F\n",
    "import torch.optim as optim\n",
    "import torchvision\n",
    "import warnings\n",
    "warnings.filterwarnings('ignore')"
   ]
  },
  {
   "cell_type": "markdown",
   "metadata": {},
   "source": [
    "# UDF"
   ]
  },
  {
   "cell_type": "code",
   "execution_count": 2,
   "metadata": {
    "ExecuteTime": {
     "end_time": "2020-06-20T12:05:16.734849Z",
     "start_time": "2020-06-20T12:05:16.730822Z"
    }
   },
   "outputs": [],
   "source": [
    "def split_data (df, testRatio, y):\n",
    "    from sklearn.model_selection import train_test_split\n",
    "    train, test = train_test_split(df, test_size=testRatio, shuffle=True,stratify=y)\n",
    "    return train, test"
   ]
  },
  {
   "cell_type": "code",
   "execution_count": 3,
   "metadata": {
    "ExecuteTime": {
     "end_time": "2020-06-20T12:05:16.741791Z",
     "start_time": "2020-06-20T12:05:16.735806Z"
    }
   },
   "outputs": [],
   "source": [
    "def Unique_values_from_Column (df, ColumnName):\n",
    "    return df[ColumnName].unique().tolist();"
   ]
  },
  {
   "cell_type": "code",
   "execution_count": 4,
   "metadata": {
    "ExecuteTime": {
     "end_time": "2020-06-20T12:05:16.746802Z",
     "start_time": "2020-06-20T12:05:16.742788Z"
    }
   },
   "outputs": [],
   "source": [
    "def X_ray_image_nameList_perCategory (df, ColumnName, CategoryName):\n",
    "    return df.loc[df[ColumnName] == CategoryName]['X_ray_image_name'].unique().tolist();"
   ]
  },
  {
   "cell_type": "code",
   "execution_count": 5,
   "metadata": {
    "ExecuteTime": {
     "end_time": "2020-06-20T12:05:16.752762Z",
     "start_time": "2020-06-20T12:05:16.747776Z"
    }
   },
   "outputs": [],
   "source": [
    "def ImagePathList_perCategory (df, ColumnName, CategoryName):\n",
    "    return df.loc[df[ColumnName] == CategoryName]['ImagePath'].unique().tolist();"
   ]
  },
  {
   "cell_type": "code",
   "execution_count": 6,
   "metadata": {
    "ExecuteTime": {
     "end_time": "2020-06-20T12:05:16.758745Z",
     "start_time": "2020-06-20T12:05:16.753760Z"
    }
   },
   "outputs": [],
   "source": [
    "def create_directory (Path):\n",
    "    import os\n",
    "    if not os.path.exists(Path):\n",
    "        os.makedirs(Path)\n",
    "        return True;\n",
    "    else: \n",
    "        return False;"
   ]
  },
  {
   "cell_type": "code",
   "execution_count": 7,
   "metadata": {
    "ExecuteTime": {
     "end_time": "2020-06-20T12:05:16.763761Z",
     "start_time": "2020-06-20T12:05:16.759743Z"
    }
   },
   "outputs": [],
   "source": [
    "def get_ListOfFiles(path):\n",
    "    import os\n",
    "    ListOfFiles=[]\n",
    "    for root, dirs, files in os.walk(path):\n",
    "        for filename in files:\n",
    "            ListOfFiles.append(filename)\n",
    "    return ListOfFiles"
   ]
  },
  {
   "cell_type": "code",
   "execution_count": 8,
   "metadata": {
    "ExecuteTime": {
     "end_time": "2020-06-20T12:05:16.768748Z",
     "start_time": "2020-06-20T12:05:16.764729Z"
    }
   },
   "outputs": [],
   "source": [
    "def remove_files_from_folder(directoryPath, filesEndWith):\n",
    "    import glob, os, os.path\n",
    "    filelist = glob.glob(os.path.join(directoryPath, filesEndWith))\n",
    "    for f in filelist:\n",
    "        os.remove(f)"
   ]
  },
  {
   "cell_type": "code",
   "execution_count": 9,
   "metadata": {
    "ExecuteTime": {
     "end_time": "2020-06-20T12:05:16.775700Z",
     "start_time": "2020-06-20T12:05:16.770714Z"
    }
   },
   "outputs": [],
   "source": [
    "def Folder_perClass (df,ColumnName, SourcePath, targetPath):\n",
    "    import shutil, sys  \n",
    "    from pathlib import Path\n",
    "    ListOfLabel=Unique_values_from_Column (df, ColumnName)\n",
    "    for label in ListOfLabel:\n",
    "        imageNames=X_ray_image_nameList_perCategory (df, ColumnName, label)\n",
    "        try:\n",
    "            create_directory (targetPath+\"/\"+label)\n",
    "        except:\n",
    "            pass\n",
    "        for imageName in imageNames:        \n",
    "            original=SourcePath+\"\\\\\"+imageName \n",
    "            target=r\"\"+targetPath+\"\\\\\"+label+\"\\\\\"+imageName\n",
    "            if not Path(target).is_file():\n",
    "                try:\n",
    "                    shutil.copyfile(original, target)\n",
    "                except:\n",
    "                    pass"
   ]
  },
  {
   "cell_type": "code",
   "execution_count": 10,
   "metadata": {
    "ExecuteTime": {
     "end_time": "2020-06-20T12:05:16.782681Z",
     "start_time": "2020-06-20T12:05:16.776697Z"
    }
   },
   "outputs": [],
   "source": [
    "def Folder_perClass_remove_image_SourcePath (df,ColumnName, SourcePath, targetPath):\n",
    "    import shutil, sys\n",
    "    from pathlib import Path\n",
    "\n",
    "    ListOfLabel=Unique_values_from_Column (df, ColumnName)\n",
    "    for label in ListOfLabel:\n",
    "        imageNames=X_ray_image_nameList_perCategory (df, ColumnName, label)\n",
    "        try:\n",
    "            create_directory (targetPath+\"/\"+label)\n",
    "        except:\n",
    "            pass\n",
    "        for imageName in imageNames:        \n",
    "            original=SourcePath+\"\\\\\"+imageName \n",
    "            target=r\"\"+targetPath+\"\\\\\"+label+\"\\\\\"+imageName \n",
    "            if not Path(target).is_file():\n",
    "                try:\n",
    "                    shutil.copyfile(original, target)\n",
    "                    remove_files_from_folder(SourcePath, imageName)\n",
    "                except:\n",
    "                    pass"
   ]
  },
  {
   "cell_type": "code",
   "execution_count": 11,
   "metadata": {
    "ExecuteTime": {
     "end_time": "2020-06-20T12:05:16.789694Z",
     "start_time": "2020-06-20T12:05:16.784676Z"
    }
   },
   "outputs": [],
   "source": [
    "def organise_data1_separate_folders():\n",
    "    create_directory (\"data\")\n",
    "    create_directory (\"data/train\")\n",
    "    create_directory (\"data/test\")\n",
    "\n",
    "    ColumnName= 'Label'\n",
    "    targetPath=\"data/train\"\n",
    "    SourcePath=r\"covid-chestxray-dataset-master\\covid-chestxray-dataset-master\\images\"\n",
    "    Folder_perClass (train,ColumnName, SourcePath,targetPath)\n",
    "\n",
    "    targetPath=\"data/test\"\n",
    "    Folder_perClass (test,ColumnName, SourcePath,targetPath)\n",
    "\n",
    "    ColumnName= 'Label_2'\n",
    "    targetPath=\"data/train/Pnemonia\"\n",
    "    SourcePath=r\"data/train/Pnemonia\"\n",
    "    Folder_perClass_remove_image_SourcePath (train,ColumnName, SourcePath,targetPath)\n",
    "\n",
    "    targetPath=\"data/test/Pnemonia\"\n",
    "    SourcePath=r\"data/test/Pnemonia\"\n",
    "    Folder_perClass_remove_image_SourcePath (test,ColumnName, SourcePath,targetPath)"
   ]
  },
  {
   "cell_type": "code",
   "execution_count": 12,
   "metadata": {
    "ExecuteTime": {
     "end_time": "2020-06-20T12:05:16.796644Z",
     "start_time": "2020-06-20T12:05:16.790661Z"
    }
   },
   "outputs": [],
   "source": [
    "def organise_data2_separate_folders():\n",
    "    create_directory (\"data\")\n",
    "    create_directory (\"data/train\")\n",
    "    create_directory (\"data/test\")\n",
    "\n",
    "    ColumnName= 'Label'\n",
    "    targetPath=\"data/train\"\n",
    "    SourcePath=r\"Coronahack-Chest-XRay-Dataset\\Coronahack-Chest-XRay-Dataset\\train\"\n",
    "    Folder_perClass (train,ColumnName, SourcePath,targetPath)\n",
    "    SourcePath=r\"Coronahack-Chest-XRay-Dataset\\Coronahack-Chest-XRay-Dataset\\test\"\n",
    "    Folder_perClass (train,ColumnName, SourcePath,targetPath)\n",
    "\n",
    "    targetPath=\"data/test\"\n",
    "    SourcePath=r\"Coronahack-Chest-XRay-Dataset\\Coronahack-Chest-XRay-Dataset\\train\"\n",
    "    Folder_perClass (test,ColumnName, SourcePath,targetPath)\n",
    "    SourcePath=r\"Coronahack-Chest-XRay-Dataset\\Coronahack-Chest-XRay-Dataset\\test\"\n",
    "    Folder_perClass (test,ColumnName, SourcePath,targetPath)\n",
    "\n",
    "    ColumnName= 'Label_2'\n",
    "    targetPath=\"data/train/Pnemonia\"\n",
    "    SourcePath=r\"data/train/Pnemonia\"\n",
    "    Folder_perClass_remove_image_SourcePath (train,ColumnName, SourcePath,targetPath)\n",
    "\n",
    "    targetPath=\"data/test/Pnemonia\"\n",
    "    SourcePath=r\"data/test/Pnemonia\"\n",
    "    Folder_perClass_remove_image_SourcePath (test,ColumnName, SourcePath,targetPath)"
   ]
  },
  {
   "cell_type": "code",
   "execution_count": 13,
   "metadata": {
    "ExecuteTime": {
     "end_time": "2020-06-20T12:05:16.801631Z",
     "start_time": "2020-06-20T12:05:16.797642Z"
    }
   },
   "outputs": [],
   "source": [
    "def number_of_elements_in_directory(dirPath):\n",
    "    import os\n",
    "    List = os.listdir(dirPath) #directory path\n",
    "    return len(List)"
   ]
  },
  {
   "cell_type": "code",
   "execution_count": 14,
   "metadata": {
    "ExecuteTime": {
     "end_time": "2020-06-20T12:05:16.808612Z",
     "start_time": "2020-06-20T12:05:16.803626Z"
    }
   },
   "outputs": [],
   "source": [
    "# This function will plot images in the form of a grid with 1 row and length of the images_arr columns.\n",
    "def plotImages(images_path_arr):\n",
    "    fig, axes = plt.subplots(1, len(images_path_arr), figsize=(20,20))\n",
    "    axes = axes.flatten()\n",
    "    for imagePath, ax in zip( images_path_arr, axes):\n",
    "        img=mpimg.imread(imagePath)\n",
    "        if len(img.shape)==3:\n",
    "            rgb_weights = [0.2989, 0.5870, 0.1140]\n",
    "            img = np.dot(img[...,:3], rgb_weights)\n",
    "        ax.imshow(img)\n",
    "        ax.axis('off')\n",
    "    plt.tight_layout()\n",
    "    plt.show()"
   ]
  },
  {
   "cell_type": "code",
   "execution_count": 15,
   "metadata": {
    "ExecuteTime": {
     "end_time": "2020-06-20T12:05:16.813598Z",
     "start_time": "2020-06-20T12:05:16.809609Z"
    }
   },
   "outputs": [],
   "source": [
    "def Remove_duplicated_images(df):\n",
    "    from pathlib import Path\n",
    "    df['Duplicted'] = df['ImagePath'].apply(lambda x : not Path(x).is_file())\n",
    "    df=df.loc[df['Duplicted'] == False]\n",
    "    return df"
   ]
  },
  {
   "cell_type": "code",
   "execution_count": 16,
   "metadata": {
    "ExecuteTime": {
     "end_time": "2020-06-20T12:05:16.819582Z",
     "start_time": "2020-06-20T12:05:16.814596Z"
    }
   },
   "outputs": [],
   "source": [
    "def autolabel(rects):\n",
    "    \"\"\"Attach a text label above each bar in *rects*, displaying its height.\"\"\"\n",
    "    for rect in rects:\n",
    "        height = rect.get_height()\n",
    "        if height>0:\n",
    "            ax.annotate('{}'.format(height),\n",
    "                        xy=(rect.get_x() + rect.get_width() / 2, height),\n",
    "                        xytext=(0, 3),  # 3 points vertical offset\n",
    "                        textcoords=\"offset points\",\n",
    "                        ha='center', va='bottom', fontsize=10)"
   ]
  },
  {
   "cell_type": "markdown",
   "metadata": {},
   "source": [
    "# Reload data"
   ]
  },
  {
   "cell_type": "code",
   "execution_count": 17,
   "metadata": {
    "ExecuteTime": {
     "end_time": "2020-06-20T12:05:16.847673Z",
     "start_time": "2020-06-20T12:05:16.820580Z"
    }
   },
   "outputs": [],
   "source": [
    "CsvPath='data/data.csv'\n",
    "df = pd.read_csv(CsvPath)"
   ]
  },
  {
   "cell_type": "markdown",
   "metadata": {},
   "source": [
    "# Stratified data split"
   ]
  },
  {
   "cell_type": "code",
   "execution_count": 18,
   "metadata": {
    "ExecuteTime": {
     "end_time": "2020-06-20T12:05:16.890533Z",
     "start_time": "2020-06-20T12:05:16.848507Z"
    }
   },
   "outputs": [],
   "source": [
    "df=df.fillna(\"\")\n",
    "train,test=split_data (df, 0.3, df[\"Label_2_Virus_category\"])"
   ]
  },
  {
   "cell_type": "code",
   "execution_count": 19,
   "metadata": {
    "ExecuteTime": {
     "end_time": "2020-06-20T12:05:16.901364Z",
     "start_time": "2020-06-20T12:05:16.891391Z"
    }
   },
   "outputs": [
    {
     "data": {
      "text/plain": [
       "['train', 'test']"
      ]
     },
     "execution_count": 19,
     "metadata": {},
     "output_type": "execute_result"
    }
   ],
   "source": [
    "train['Dataset_Type'] = \"train\"\n",
    "test['Dataset_Type'] = \"test\"\n",
    "df = train.append(test, ignore_index=True, sort=False)\n",
    "Unique_values_from_Column (df, 'Dataset_Type')"
   ]
  },
  {
   "cell_type": "code",
   "execution_count": 20,
   "metadata": {
    "ExecuteTime": {
     "end_time": "2020-06-20T12:05:16.933443Z",
     "start_time": "2020-06-20T12:05:16.902362Z"
    }
   },
   "outputs": [],
   "source": [
    "create_directory (\"data\")\n",
    "df.to_csv(\"data/data.csv\")"
   ]
  },
  {
   "cell_type": "markdown",
   "metadata": {},
   "source": [
    "# Organize folders"
   ]
  },
  {
   "cell_type": "code",
   "execution_count": 21,
   "metadata": {
    "ExecuteTime": {
     "end_time": "2020-06-20T12:06:16.362765Z",
     "start_time": "2020-06-20T12:05:16.934280Z"
    }
   },
   "outputs": [],
   "source": [
    "organise_data1_separate_folders()\n",
    "organise_data2_separate_folders()"
   ]
  }
 ],
 "metadata": {
  "kernelspec": {
   "display_name": "Python [conda env:dorra] *",
   "language": "python",
   "name": "conda-env-dorra-py"
  },
  "language_info": {
   "codemirror_mode": {
    "name": "ipython",
    "version": 3
   },
   "file_extension": ".py",
   "mimetype": "text/x-python",
   "name": "python",
   "nbconvert_exporter": "python",
   "pygments_lexer": "ipython3",
   "version": "3.6.8"
  },
  "toc": {
   "base_numbering": 1,
   "nav_menu": {},
   "number_sections": true,
   "sideBar": true,
   "skip_h1_title": false,
   "title_cell": "Table of Contents",
   "title_sidebar": "Contents",
   "toc_cell": false,
   "toc_position": {
    "height": "calc(100% - 180px)",
    "left": "10px",
    "top": "150px",
    "width": "230.688px"
   },
   "toc_section_display": true,
   "toc_window_display": true
  }
 },
 "nbformat": 4,
 "nbformat_minor": 2
}
