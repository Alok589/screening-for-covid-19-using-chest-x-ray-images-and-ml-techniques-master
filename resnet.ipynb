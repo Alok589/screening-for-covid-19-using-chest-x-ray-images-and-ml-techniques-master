{
 "cells": [
  {
   "cell_type": "code",
   "execution_count": 1,
   "metadata": {},
   "outputs": [],
   "source": [
    "import torch\n",
    "import torch.nn as nn\n",
    "import torch.optim as optim\n",
    "from torch.optim import lr_scheduler\n",
    "import numpy as np\n",
    "import torchvision\n",
    "from torchvision import datasets, models, transforms\n",
    "import matplotlib.pyplot as plt\n",
    "import time\n",
    "import os\n",
    "import copy\n",
    "plt.ion()"
   ]
  },
  {
   "cell_type": "code",
   "execution_count": 2,
   "metadata": {},
   "outputs": [],
   "source": [
    "# data transform\n",
    "data_transforms = {\n",
    "    'train': transforms.Compose([\n",
    "        transforms.RandomResizedCrop(224),\n",
    "        transforms.RandomHorizontalFlip(),\n",
    "        transforms.ToTensor(),\n",
    "        transforms.Normalize([0.485, 0.456, 0.406], [0.229, 0.224, 0.225])\n",
    "    ]),\n",
    "    'val': transforms.Compose([\n",
    "        transforms.Resize(256),\n",
    "        transforms.CenterCrop(224),\n",
    "        transforms.ToTensor(),\n",
    "        transforms.Normalize([0.485, 0.456, 0.406], [0.229, 0.224, 0.225])\n",
    "    ]),\n",
    "}"
   ]
  },
  {
   "cell_type": "code",
   "execution_count": 3,
   "metadata": {},
   "outputs": [],
   "source": [
    "data_dir = 'Data'\n",
    "image_datasets = {x: datasets.ImageFolder(os.path.join(data_dir, x),\n",
    "                                          data_transforms[x])\n",
    "                  for x in ['train', 'val']}\n",
    "dataloaders = {x: torch.utils.data.DataLoader(image_datasets[x], batch_size=8,\n",
    "                                             shuffle=True, num_workers=4)\n",
    "              for x in ['train', 'val']}"
   ]
  },
  {
   "cell_type": "code",
   "execution_count": 4,
   "metadata": {},
   "outputs": [],
   "source": [
    "dataset_sizes = {x: len(image_datasets[x]) for x in ['train', 'val']}\n",
    "class_names = image_datasets['train'].classes"
   ]
  },
  {
   "cell_type": "code",
   "execution_count": 14,
   "metadata": {},
   "outputs": [],
   "source": [
    "def train_model(model, criterion, optimizer, scheduler, num_epochs=25):\n",
    "    since = time.time()\n",
    "    train_acc = []\n",
    "    valid_acc = []\n",
    "    train_loss = []\n",
    "    valid_loss = []\n",
    "\n",
    "    best_model_wts = copy.deepcopy(model.state_dict())\n",
    "    best_acc = 0.0\n",
    "\n",
    "    for epoch in range(num_epochs):\n",
    "        print('Epoch {}/{}'.format(epoch, num_epochs - 1))\n",
    "        print('-' * 10)\n",
    "\n",
    "        # Each epoch has a training and validation phase\n",
    "        for phase in ['train', 'val']:\n",
    "            if phase == 'train':\n",
    "                model.train()  # Set model to training mode\n",
    "            else:\n",
    "                model.eval()   # Set model to evaluate mode\n",
    "\n",
    "            running_loss = 0.0\n",
    "            running_corrects = 0\n",
    "\n",
    "            # Iterate over data.\n",
    "            for inputs, labels in dataloaders[phase]:\n",
    "                inputs = inputs.to(device)\n",
    "                labels = labels.to(device)\n",
    "\n",
    "                # zero the parameter gradients\n",
    "                optimizer.zero_grad()\n",
    "\n",
    "                # forward\n",
    "                # track history if only in train\n",
    "                with torch.set_grad_enabled(phase == 'train'):\n",
    "                    outputs = model(inputs)\n",
    "                    _, preds = torch.max(outputs, 1)\n",
    "                    loss = criterion(outputs, labels)\n",
    "\n",
    "                    # backward + optimize only if in training phase\n",
    "                    if phase == 'train':\n",
    "                        loss.backward()\n",
    "                        optimizer.step()\n",
    "\n",
    "                # statistics\n",
    "                running_loss += loss.item() * inputs.size(0)\n",
    "                running_corrects += torch.sum(preds == labels.data)\n",
    "            if phase == 'train':\n",
    "                scheduler.step()\n",
    "\n",
    "            epoch_loss = running_loss / dataset_sizes[phase]\n",
    "            epoch_acc = running_corrects.double() / dataset_sizes[phase]\n",
    "\n",
    "            print('{} Loss: {:.4f} Acc: {:.4f}'.format(\n",
    "                phase, epoch_loss, epoch_acc))\n",
    "\n",
    "            # deep copy the model\n",
    "            if phase == 'val' and epoch_acc > best_acc:\n",
    "                best_acc = epoch_acc\n",
    "                best_model_wts = copy.deepcopy(model.state_dict())\n",
    "            if phase == 'val':\n",
    "                valid_loss.append(epoch_loss)\n",
    "                valid_acc.append(epoch_acc)\n",
    "            if phase == 'train':\n",
    "                train_loss.append(epoch_loss)\n",
    "                train_acc.append(epoch_acc)\n",
    "\n",
    "        print()\n",
    "\n",
    "    time_elapsed = time.time() - since\n",
    "    print('Training complete in {:.0f}m {:.0f}s'.format(\n",
    "        time_elapsed // 60, time_elapsed % 60))\n",
    "    print('Best val Acc: {:4f}'.format(best_acc))\n",
    "\n",
    "    # load best model weights\n",
    "    model.load_state_dict(best_model_wts)\n",
    "    return model, train_acc, train_loss, valid_acc, valid_loss"
   ]
  },
  {
   "cell_type": "code",
   "execution_count": 15,
   "metadata": {},
   "outputs": [
    {
     "name": "stdout",
     "output_type": "stream",
     "text": [
      "Epoch 0/24\n",
      "----------\n",
      "train Loss: 0.8512 Acc: 0.6443\n",
      "val Loss: 0.9392 Acc: 0.5515\n",
      "\n",
      "Epoch 1/24\n",
      "----------\n",
      "train Loss: 0.7730 Acc: 0.6833\n",
      "val Loss: 0.7063 Acc: 0.6828\n",
      "\n",
      "Epoch 2/24\n",
      "----------\n",
      "train Loss: 0.7000 Acc: 0.7152\n",
      "val Loss: 0.5256 Acc: 0.7912\n",
      "\n",
      "Epoch 3/24\n",
      "----------\n",
      "train Loss: 0.6958 Acc: 0.7161\n",
      "val Loss: 0.5481 Acc: 0.7843\n",
      "\n",
      "Epoch 4/24\n",
      "----------\n",
      "train Loss: 0.6665 Acc: 0.7218\n",
      "val Loss: 0.5802 Acc: 0.8018\n",
      "\n",
      "Epoch 5/24\n",
      "----------\n",
      "train Loss: 0.6366 Acc: 0.7469\n",
      "val Loss: 0.5434 Acc: 0.7811\n",
      "\n",
      "Epoch 6/24\n",
      "----------\n",
      "train Loss: 0.5996 Acc: 0.7564\n",
      "val Loss: 0.5586 Acc: 0.8045\n",
      "\n",
      "Epoch 7/24\n",
      "----------\n",
      "train Loss: 0.5046 Acc: 0.7995\n",
      "val Loss: 0.4356 Acc: 0.8284\n",
      "\n",
      "Epoch 8/24\n",
      "----------\n",
      "train Loss: 0.5066 Acc: 0.7954\n",
      "val Loss: 0.4280 Acc: 0.8358\n",
      "\n",
      "Epoch 9/24\n",
      "----------\n",
      "train Loss: 0.4918 Acc: 0.8031\n",
      "val Loss: 0.4284 Acc: 0.8332\n",
      "\n",
      "Epoch 10/24\n",
      "----------\n",
      "train Loss: 0.4770 Acc: 0.8027\n",
      "val Loss: 0.4242 Acc: 0.8321\n",
      "\n",
      "Epoch 11/24\n",
      "----------\n",
      "train Loss: 0.4761 Acc: 0.8102\n",
      "val Loss: 0.4221 Acc: 0.8294\n",
      "\n",
      "Epoch 12/24\n",
      "----------\n",
      "train Loss: 0.4761 Acc: 0.8066\n",
      "val Loss: 0.4165 Acc: 0.8342\n",
      "\n",
      "Epoch 13/24\n",
      "----------\n",
      "train Loss: 0.4644 Acc: 0.8107\n",
      "val Loss: 0.4200 Acc: 0.8316\n",
      "\n",
      "Epoch 14/24\n",
      "----------\n",
      "train Loss: 0.4632 Acc: 0.8109\n",
      "val Loss: 0.4150 Acc: 0.8363\n",
      "\n",
      "Epoch 15/24\n",
      "----------\n",
      "train Loss: 0.4577 Acc: 0.8141\n",
      "val Loss: 0.4149 Acc: 0.8374\n",
      "\n",
      "Epoch 16/24\n",
      "----------\n",
      "train Loss: 0.4579 Acc: 0.8141\n",
      "val Loss: 0.4282 Acc: 0.8241\n",
      "\n",
      "Epoch 17/24\n",
      "----------\n",
      "train Loss: 0.4620 Acc: 0.8079\n",
      "val Loss: 0.4170 Acc: 0.8300\n",
      "\n",
      "Epoch 18/24\n",
      "----------\n",
      "train Loss: 0.4568 Acc: 0.8132\n",
      "val Loss: 0.4147 Acc: 0.8332\n",
      "\n",
      "Epoch 19/24\n",
      "----------\n",
      "train Loss: 0.4617 Acc: 0.8170\n",
      "val Loss: 0.4163 Acc: 0.8316\n",
      "\n",
      "Epoch 20/24\n",
      "----------\n",
      "train Loss: 0.4704 Acc: 0.8123\n",
      "val Loss: 0.4144 Acc: 0.8300\n",
      "\n",
      "Epoch 21/24\n",
      "----------\n",
      "train Loss: 0.4524 Acc: 0.8143\n",
      "val Loss: 0.4194 Acc: 0.8310\n",
      "\n",
      "Epoch 22/24\n",
      "----------\n",
      "train Loss: 0.4557 Acc: 0.8193\n",
      "val Loss: 0.4135 Acc: 0.8316\n",
      "\n",
      "Epoch 23/24\n",
      "----------\n",
      "train Loss: 0.4575 Acc: 0.8184\n",
      "val Loss: 0.4141 Acc: 0.8379\n",
      "\n",
      "Epoch 24/24\n",
      "----------\n",
      "train Loss: 0.4509 Acc: 0.8150\n",
      "val Loss: 0.4104 Acc: 0.8358\n",
      "\n",
      "Training complete in 167m 44s\n",
      "Best val Acc: 0.837938\n"
     ]
    }
   ],
   "source": [
    "resnet = models.resnet18(pretrained=True)\n",
    "num_ftrs = resnet.fc.in_features\n",
    "# for param in resnet.parameters():\n",
    "#     param.requires_grad = False\n",
    "resnet.fc = nn.Linear(num_ftrs, len(class_names))\n",
    "criterion = nn.CrossEntropyLoss()\n",
    "device = torch.device(\"cuda:0\" if torch.cuda.is_available() else \"cpu\")\n",
    "# Observe that all parameters are being optimized\n",
    "optimizer = optim.SGD(resnet.parameters(), lr=0.001, momentum=0.9)\n",
    "\n",
    "# Decay LR by a factor of 0.1 every 7 epochs\n",
    "exp_lr_scheduler = lr_scheduler.StepLR(optimizer, step_size=7, gamma=0.1)\n",
    "resnet, train_acc, train_loss, valid_acc, valid_loss = train_model(resnet,\n",
    "                                        criterion, optimizer,exp_lr_scheduler, num_epochs=25)"
   ]
  },
  {
   "cell_type": "code",
   "execution_count": 16,
   "metadata": {},
   "outputs": [
    {
     "data": {
      "image/png": "[encoded data removed]",
      "text/plain": [
       "<Figure size 432x288 with 1 Axes>"
      ]
     },
     "metadata": {
      "needs_background": "light"
     },
     "output_type": "display_data"
    }
   ],
   "source": [
    "plt.plot(train_loss, label='Training loss')\n",
    "plt.plot(valid_loss, label='Validation loss')\n",
    "plt.legend(frameon=False)\n",
    "plt.show()"
   ]
  },
  {
   "cell_type": "code",
   "execution_count": 17,
   "metadata": {},
   "outputs": [
    {
     "data": {
      "image/png": "[encoded data removed]",
      "text/plain": [
       "<Figure size 432x288 with 1 Axes>"
      ]
     },
     "metadata": {
      "needs_background": "light"
     },
     "output_type": "display_data"
    }
   ],
   "source": [
    "plt.plot(train_acc, label='Training accuarcy')\n",
    "plt.plot(valid_acc, label='Validation accuarcy')\n",
    "plt.legend(frameon=False)\n",
    "plt.show()"
   ]
  },
  {
   "cell_type": "code",
   "execution_count": 18,
   "metadata": {},
   "outputs": [
    {
     "name": "stdout",
     "output_type": "stream",
     "text": [
      "1882\n",
      "1882\n"
     ]
    }
   ],
   "source": [
    "predicted = []\n",
    "labels = []\n",
    "for data, label in dataloaders[\"val\"]:\n",
    "    outputs = resnet(data)\n",
    "    _, preds = torch.max(outputs, 1)\n",
    "    labels.extend(label.tolist())\n",
    "    predicted.extend(preds.tolist())\n",
    "print(len(predicted))\n",
    "print(len(labels))"
   ]
  },
  {
   "cell_type": "code",
   "execution_count": 19,
   "metadata": {},
   "outputs": [
    {
     "name": "stdout",
     "output_type": "stream",
     "text": [
      "                 precision    recall  f1-score   support\n",
      "\n",
      "       COVID-19       0.85      0.93      0.89       112\n",
      "         Normal       0.92      0.95      0.94       479\n",
      "Pnemonia_others       0.75      0.64      0.69       451\n",
      "   non-COVID-19       0.83      0.87      0.85       840\n",
      "\n",
      "       accuracy                           0.84      1882\n",
      "      macro avg       0.84      0.85      0.84      1882\n",
      "   weighted avg       0.83      0.84      0.83      1882\n",
      "\n"
     ]
    }
   ],
   "source": [
    "from sklearn.metrics import classification_report, confusion_matrix\n",
    "import pandas as pd\n",
    "import seaborn as sns\n",
    "print(classification_report(labels, predicted, target_names=class_names))\n",
    "cmf = confusion_matrix(labels,predicted,normalize=\"true\")\n",
    "cmf = pd.DataFrame(cmf, \n",
    "  index = class_names,\n",
    "  columns = class_names)"
   ]
  },
  {
   "cell_type": "code",
   "execution_count": 20,
   "metadata": {},
   "outputs": [
    {
     "data": {
      "text/plain": [
       "<matplotlib.axes._subplots.AxesSubplot at 0x7fc7dd1bf978>"
      ]
     },
     "execution_count": 20,
     "metadata": {},
     "output_type": "execute_result"
    },
    {
     "data": {
      "image/png": "[encoded data removed]",
      "text/plain": [
       "<Figure size 432x288 with 2 Axes>"
      ]
     },
     "metadata": {
      "needs_background": "light"
     },
     "output_type": "display_data"
    }
   ],
   "source": [
    "sns.heatmap(cmf, cmap='Blues',annot=True)"
   ]
  },
  {
   "cell_type": "code",
   "execution_count": null,
   "metadata": {},
   "outputs": [],
   "source": []
  }
 ],
 "metadata": {
  "kernelspec": {
   "display_name": "Python 3",
   "language": "python",
   "name": "python3"
  },
  "language_info": {
   "codemirror_mode": {
    "name": "ipython",
    "version": 3
   },
   "file_extension": ".py",
   "mimetype": "text/x-python",
   "name": "python",
   "nbconvert_exporter": "python",
   "pygments_lexer": "ipython3",
   "version": "3.6.9"
  }
 },
 "nbformat": 4,
 "nbformat_minor": 4
}
